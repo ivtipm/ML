{
 "cells": [
  {
   "cell_type": "markdown",
   "metadata": {},
   "source": [
    "# Встроенные датасеты"
   ]
  },
  {
   "cell_type": "code",
   "execution_count": 1,
   "metadata": {
    "collapsed": false
   },
   "outputs": [
    {
     "name": "stdout",
     "output_type": "stream",
     "text": [
      "Optical Recognition of Handwritten Digits Data Set\n",
      "===================================================\n",
      "\n",
      "Notes\n",
      "-----\n",
      "Data Set Characteristics:\n",
      "    :Number of Instances: 5620\n",
      "    :Number of Attributes: 64\n",
      "    :Attribute Information: 8x8 image of integer pixels in the range 0..16.\n",
      "    :Missing Attribute Values: None\n",
      "    :Creator: E. Alpaydin (alpaydin '@' boun.edu.tr)\n",
      "    :Date: July; 1998\n",
      "\n",
      "This is a copy of the test set of the UCI ML hand-written digits datasets\n",
      "http://archive.ics.uci.edu/ml/datasets/Optical+Recognition+of+Handwritten+Digits\n",
      "\n",
      "The data set contains images of hand-written digits: 10 classes where\n",
      "each class refers to a digit.\n",
      "\n",
      "Preprocessing programs made available by NIST were used to extract\n",
      "normalized bitmaps of handwritten digits from a preprinted form. From a\n",
      "total of 43 people, 30 contributed to the training set and different 13\n",
      "to the test set. 32x32 bitmaps are divided into nonoverlapping blocks of\n",
      "4x4 and the number of on pixels are counted in each block. This generates\n",
      "an input matrix of 8x8 where each element is an integer in the range\n",
      "0..16. This reduces dimensionality and gives invariance to small\n",
      "distortions.\n",
      "\n",
      "For info on NIST preprocessing routines, see M. D. Garris, J. L. Blue, G.\n",
      "T. Candela, D. L. Dimmick, J. Geist, P. J. Grother, S. A. Janet, and C.\n",
      "L. Wilson, NIST Form-Based Handprint Recognition System, NISTIR 5469,\n",
      "1994.\n",
      "\n",
      "References\n",
      "----------\n",
      "  - C. Kaynak (1995) Methods of Combining Multiple Classifiers and Their\n",
      "    Applications to Handwritten Digit Recognition, MSc Thesis, Institute of\n",
      "    Graduate Studies in Science and Engineering, Bogazici University.\n",
      "  - E. Alpaydin, C. Kaynak (1998) Cascading Classifiers, Kybernetika.\n",
      "  - Ken Tang and Ponnuthurai N. Suganthan and Xi Yao and A. Kai Qin.\n",
      "    Linear dimensionalityreduction using relevance weighted LDA. School of\n",
      "    Electrical and Electronic Engineering Nanyang Technological University.\n",
      "    2005.\n",
      "  - Claudio Gentile. A New Approximate Maximal Margin Classification\n",
      "    Algorithm. NIPS. 2000.\n",
      "\n",
      "[0 1 2 ..., 8 9 8]\n",
      "[[  0.   0.   5. ...,   0.   0.   0.]\n",
      " [  0.   0.   0. ...,  10.   0.   0.]\n",
      " [  0.   0.   0. ...,  16.   9.   0.]\n",
      " ..., \n",
      " [  0.   0.   1. ...,   6.   0.   0.]\n",
      " [  0.   0.   2. ...,  12.   0.   0.]\n",
      " [  0.   0.  10. ...,  12.   1.   0.]]\n"
     ]
    }
   ],
   "source": [
    "from sklearn.datasets import *\n",
    "\n",
    "# regression\n",
    "boston = load_boston()\n",
    "diabetes = load_diabetes()\n",
    "\n",
    "#classification\n",
    "iris = load_iris()\n",
    "breast = load_breast_cancer()\n",
    "wine = load_wine()\n",
    "digits = load_digits()\n",
    "\n",
    "print(digits.DESCR)\n",
    "# print(digits.feature_names)\n",
    "print(digits.target)\n",
    "print(digits.data)"
   ]
  },
  {
   "cell_type": "code",
   "execution_count": 2,
   "metadata": {
    "collapsed": true
   },
   "outputs": [],
   "source": [
    "X = digits.data\n",
    "y = digits.target"
   ]
  },
  {
   "cell_type": "code",
   "execution_count": 3,
   "metadata": {
    "collapsed": true
   },
   "outputs": [],
   "source": [
    "from sklearn.utils import shuffle\n",
    "X, y = shuffle(X, y, random_state=10)"
   ]
  },
  {
   "cell_type": "code",
   "execution_count": 10,
   "metadata": {
    "collapsed": false
   },
   "outputs": [
    {
     "data": {
      "image/png": "[encoded data removed]",
      "text/plain": [
       "<matplotlib.figure.Figure at 0x7f4f11cb33c8>"
      ]
     },
     "metadata": {},
     "output_type": "display_data"
    }
   ],
   "source": [
    "import matplotlib.pyplot as plt\n",
    "images_and_labels = list(zip(digits.images, digits.target))\n",
    "for index, (image, label) in enumerate(images_and_labels[:8]):\n",
    "    plt.subplot(2, 4, index + 1)\n",
    "    plt.axis('off')\n",
    "    plt.imshow(image, cmap=plt.cm.gray_r, interpolation='nearest')\n",
    "    plt.title('Training: %i' % label)\n",
    "plt.show()"
   ]
  },
  {
   "cell_type": "code",
   "execution_count": 4,
   "metadata": {
    "collapsed": true
   },
   "outputs": [],
   "source": [
    "from sklearn.model_selection import train_test_split\n",
    "X_train, X_test, y_train, y_test = train_test_split(X, y, test_size=0.3, random_state=15)"
   ]
  },
  {
   "cell_type": "markdown",
   "metadata": {},
   "source": [
    "# Генераторы датасетов"
   ]
  },
  {
   "cell_type": "code",
   "execution_count": 4,
   "metadata": {
    "collapsed": true
   },
   "outputs": [],
   "source": [
    "# Generate isotropic Gaussian blobs for clustering.\n",
    "from sklearn.datasets import make_blobs\n",
    "X, y = make_blobs(centers=3, n_samples=100, n_features=2)"
   ]
  },
  {
   "cell_type": "code",
   "execution_count": 20,
   "metadata": {
    "collapsed": true
   },
   "outputs": [],
   "source": [
    "# Generate a random n-class classification problem.\n",
    "from sklearn.datasets import make_classification\n",
    "X, y = make_classification(n_samples=100)"
   ]
  },
  {
   "cell_type": "code",
   "execution_count": 16,
   "metadata": {
    "collapsed": true
   },
   "outputs": [],
   "source": [
    "# Make a large circle containing a smaller circle in 2d.\n",
    "from sklearn.datasets import make_circles\n",
    "X, y = make_circles(n_samples=100)"
   ]
  },
  {
   "cell_type": "code",
   "execution_count": 18,
   "metadata": {
    "collapsed": true
   },
   "outputs": [],
   "source": [
    "# Make two interleaving half circles\n",
    "from sklearn.datasets import make_moons\n",
    "X, y = make_moons(n_samples=100)"
   ]
  },
  {
   "cell_type": "code",
   "execution_count": 5,
   "metadata": {
    "collapsed": false
   },
   "outputs": [
    {
     "data": {
      "image/png": "[encoded data removed]",
      "text/plain": [
       "<matplotlib.figure.Figure at 0x7f99806f0630>"
      ]
     },
     "metadata": {},
     "output_type": "display_data"
    }
   ],
   "source": [
    "import matplotlib.pyplot as plt\n",
    "plt.rcParams['figure.figsize'] = 4, 4\n",
    "plt.scatter(X[:, 0], X[:, 1], c=y, s=75)\n",
    "plt.xlabel(\"first feature\")\n",
    "plt.ylabel(\"second feature\")\n",
    "plt.show()"
   ]
  },
  {
   "cell_type": "markdown",
   "metadata": {},
   "source": [
    "# Классификация"
   ]
  },
  {
   "cell_type": "code",
   "execution_count": 5,
   "metadata": {
    "collapsed": false
   },
   "outputs": [
    {
     "data": {
      "text/plain": [
       "DecisionTreeClassifier(class_weight=None, criterion='entropy', max_depth=None,\n",
       "            max_features=None, max_leaf_nodes=None,\n",
       "            min_impurity_decrease=0.0, min_impurity_split=None,\n",
       "            min_samples_leaf=1, min_samples_split=2,\n",
       "            min_weight_fraction_leaf=0.0, presort=False, random_state=10,\n",
       "            splitter='best')"
      ]
     },
     "execution_count": 5,
     "metadata": {},
     "output_type": "execute_result"
    }
   ],
   "source": [
    "# http://scikit-learn.org/stable/modules/generated/sklearn.tree.DecisionTreeClassifier.html\n",
    "from sklearn.tree import DecisionTreeClassifier\n",
    "clf = DecisionTreeClassifier(criterion='entropy', random_state=10)\n",
    "clf.fit(X_train, y_train)"
   ]
  },
  {
   "cell_type": "code",
   "execution_count": null,
   "metadata": {
    "collapsed": true
   },
   "outputs": [],
   "source": [
    "# http://scikit-learn.org/stable/modules/generated/sklearn.neighbors.KNeighborsClassifier.html#sklearn.neighbors.KNeighborsClassifier\n",
    "\n",
    "from sklearn.neighbors import KNeighborsClassifier\n",
    "clf = KNeighborsClassifier(n_neighbors=3)\n",
    "clf.fit(X_train, y_train)"
   ]
  },
  {
   "cell_type": "code",
   "execution_count": 6,
   "metadata": {
    "collapsed": false,
    "scrolled": true
   },
   "outputs": [
    {
     "name": "stdout",
     "output_type": "stream",
     "text": [
      "0.837037037037\n",
      "0.839463016876\n",
      "0.839949685517\n",
      "0.841937143976\n"
     ]
    }
   ],
   "source": [
    "from sklearn import metrics\n",
    "\n",
    "pred = clf.predict(X_test)\n",
    "print(metrics.accuracy_score(y_test, pred))\n",
    "print(metrics.f1_score(y_test, pred, average = 'macro'))\n",
    "print(metrics.precision_score(y_test, pred, average = 'macro'))\n",
    "print(metrics.recall_score(y_test, pred, average = 'macro'))"
   ]
  },
  {
   "cell_type": "code",
   "execution_count": 11,
   "metadata": {
    "collapsed": false
   },
   "outputs": [
    {
     "name": "stderr",
     "output_type": "stream",
     "text": [
      "/home/com/miniconda2/envs/py36/lib/python3.6/site-packages/sklearn/tree/export.py:399: DeprecationWarning: out_file can be set to None starting from 0.18. This will be the default in 0.20.\n",
      "  DeprecationWarning)\n"
     ]
    },
    {
     "data": {
      "image/svg+xml": [
       "<?xml version=\"1.0\" encoding=\"UTF-8\" standalone=\"no\"?>\n",
       "<!DOCTYPE svg PUBLIC \"-//W3C//DTD SVG 1.1//EN\"\n",
       " \"http://www.w3.org/Graphics/SVG/1.1/DTD/svg11.dtd\">\n",
       "<!-- Generated by graphviz version 2.38.0 (20140413.2041)\n",
       " -->\n",
       "<!-- Title: Tree Pages: 1 -->\n",
       "<svg width=\"509pt\" height=\"789pt\"\n",
       " viewBox=\"0.00 0.00 509.00 789.00\" xmlns=\"http://www.w3.org/2000/svg\" xmlns:xlink=\"http://www.w3.org/1999/xlink\">\n",
       "<g id=\"graph0\" class=\"graph\" transform=\"scale(1 1) rotate(0) translate(4 785)\">\n",
       "<title>Tree</title>\n",
       "<polygon fill=\"white\" stroke=\"none\" points=\"-4,4 -4,-785 505,-785 505,4 -4,4\"/>\n",
       "<!-- 0 -->\n",
       "<g id=\"node1\" class=\"node\"><title>0</title>\n",
       "<polygon fill=\"none\" stroke=\"black\" points=\"245.5,-781 119.5,-781 119.5,-713 245.5,-713 245.5,-781\"/>\n",
       "<text text-anchor=\"middle\" x=\"182.5\" y=\"-765.8\" font-family=\"Times,serif\" font-size=\"14.00\">X[3] &lt;= 0.8</text>\n",
       "<text text-anchor=\"middle\" x=\"182.5\" y=\"-750.8\" font-family=\"Times,serif\" font-size=\"14.00\">entropy = 1.569</text>\n",
       "<text text-anchor=\"middle\" x=\"182.5\" y=\"-735.8\" font-family=\"Times,serif\" font-size=\"14.00\">samples = 105</text>\n",
       "<text text-anchor=\"middle\" x=\"182.5\" y=\"-720.8\" font-family=\"Times,serif\" font-size=\"14.00\">value = [37, 28, 40]</text>\n",
       "</g>\n",
       "<!-- 1 -->\n",
       "<g id=\"node2\" class=\"node\"><title>1</title>\n",
       "<polygon fill=\"none\" stroke=\"black\" points=\"172,-669.5 59,-669.5 59,-616.5 172,-616.5 172,-669.5\"/>\n",
       "<text text-anchor=\"middle\" x=\"115.5\" y=\"-654.3\" font-family=\"Times,serif\" font-size=\"14.00\">entropy = 0.0</text>\n",
       "<text text-anchor=\"middle\" x=\"115.5\" y=\"-639.3\" font-family=\"Times,serif\" font-size=\"14.00\">samples = 37</text>\n",
       "<text text-anchor=\"middle\" x=\"115.5\" y=\"-624.3\" font-family=\"Times,serif\" font-size=\"14.00\">value = [37, 0, 0]</text>\n",
       "</g>\n",
       "<!-- 0&#45;&gt;1 -->\n",
       "<g id=\"edge1\" class=\"edge\"><title>0&#45;&gt;1</title>\n",
       "<path fill=\"none\" stroke=\"black\" d=\"M160.747,-712.884C153.451,-701.776 145.303,-689.372 137.954,-678.184\"/>\n",
       "<polygon fill=\"black\" stroke=\"black\" points=\"140.679,-675.957 132.263,-669.52 134.828,-679.8 140.679,-675.957\"/>\n",
       "<text text-anchor=\"middle\" x=\"127.193\" y=\"-690.3\" font-family=\"Times,serif\" font-size=\"14.00\">True</text>\n",
       "</g>\n",
       "<!-- 2 -->\n",
       "<g id=\"node3\" class=\"node\"><title>2</title>\n",
       "<polygon fill=\"none\" stroke=\"black\" points=\"309,-677 190,-677 190,-609 309,-609 309,-677\"/>\n",
       "<text text-anchor=\"middle\" x=\"249.5\" y=\"-661.8\" font-family=\"Times,serif\" font-size=\"14.00\">X[2] &lt;= 4.75</text>\n",
       "<text text-anchor=\"middle\" x=\"249.5\" y=\"-646.8\" font-family=\"Times,serif\" font-size=\"14.00\">entropy = 0.977</text>\n",
       "<text text-anchor=\"middle\" x=\"249.5\" y=\"-631.8\" font-family=\"Times,serif\" font-size=\"14.00\">samples = 68</text>\n",
       "<text text-anchor=\"middle\" x=\"249.5\" y=\"-616.8\" font-family=\"Times,serif\" font-size=\"14.00\">value = [0, 28, 40]</text>\n",
       "</g>\n",
       "<!-- 0&#45;&gt;2 -->\n",
       "<g id=\"edge2\" class=\"edge\"><title>0&#45;&gt;2</title>\n",
       "<path fill=\"none\" stroke=\"black\" d=\"M204.253,-712.884C209.928,-704.243 216.119,-694.819 222.048,-685.793\"/>\n",
       "<polygon fill=\"black\" stroke=\"black\" points=\"225.062,-687.579 227.627,-677.299 219.211,-683.736 225.062,-687.579\"/>\n",
       "<text text-anchor=\"middle\" x=\"232.697\" y=\"-698.08\" font-family=\"Times,serif\" font-size=\"14.00\">False</text>\n",
       "</g>\n",
       "<!-- 3 -->\n",
       "<g id=\"node4\" class=\"node\"><title>3</title>\n",
       "<polygon fill=\"none\" stroke=\"black\" points=\"240,-573 127,-573 127,-505 240,-505 240,-573\"/>\n",
       "<text text-anchor=\"middle\" x=\"183.5\" y=\"-557.8\" font-family=\"Times,serif\" font-size=\"14.00\">X[3] &lt;= 1.65</text>\n",
       "<text text-anchor=\"middle\" x=\"183.5\" y=\"-542.8\" font-family=\"Times,serif\" font-size=\"14.00\">entropy = 0.235</text>\n",
       "<text text-anchor=\"middle\" x=\"183.5\" y=\"-527.8\" font-family=\"Times,serif\" font-size=\"14.00\">samples = 26</text>\n",
       "<text text-anchor=\"middle\" x=\"183.5\" y=\"-512.8\" font-family=\"Times,serif\" font-size=\"14.00\">value = [0, 25, 1]</text>\n",
       "</g>\n",
       "<!-- 2&#45;&gt;3 -->\n",
       "<g id=\"edge3\" class=\"edge\"><title>2&#45;&gt;3</title>\n",
       "<path fill=\"none\" stroke=\"black\" d=\"M228.072,-608.884C222.481,-600.243 216.383,-590.819 210.542,-581.793\"/>\n",
       "<polygon fill=\"black\" stroke=\"black\" points=\"213.418,-579.794 205.047,-573.299 207.541,-583.596 213.418,-579.794\"/>\n",
       "</g>\n",
       "<!-- 6 -->\n",
       "<g id=\"node7\" class=\"node\"><title>6</title>\n",
       "<polygon fill=\"none\" stroke=\"black\" points=\"371,-573 258,-573 258,-505 371,-505 371,-573\"/>\n",
       "<text text-anchor=\"middle\" x=\"314.5\" y=\"-557.8\" font-family=\"Times,serif\" font-size=\"14.00\">X[3] &lt;= 1.85</text>\n",
       "<text text-anchor=\"middle\" x=\"314.5\" y=\"-542.8\" font-family=\"Times,serif\" font-size=\"14.00\">entropy = 0.371</text>\n",
       "<text text-anchor=\"middle\" x=\"314.5\" y=\"-527.8\" font-family=\"Times,serif\" font-size=\"14.00\">samples = 42</text>\n",
       "<text text-anchor=\"middle\" x=\"314.5\" y=\"-512.8\" font-family=\"Times,serif\" font-size=\"14.00\">value = [0, 3, 39]</text>\n",
       "</g>\n",
       "<!-- 2&#45;&gt;6 -->\n",
       "<g id=\"edge6\" class=\"edge\"><title>2&#45;&gt;6</title>\n",
       "<path fill=\"none\" stroke=\"black\" d=\"M270.604,-608.884C276.11,-600.243 282.115,-590.819 287.867,-581.793\"/>\n",
       "<polygon fill=\"black\" stroke=\"black\" points=\"290.857,-583.614 293.28,-573.299 284.954,-579.852 290.857,-583.614\"/>\n",
       "</g>\n",
       "<!-- 4 -->\n",
       "<g id=\"node5\" class=\"node\"><title>4</title>\n",
       "<polygon fill=\"none\" stroke=\"black\" points=\"113,-461.5 0,-461.5 0,-408.5 113,-408.5 113,-461.5\"/>\n",
       "<text text-anchor=\"middle\" x=\"56.5\" y=\"-446.3\" font-family=\"Times,serif\" font-size=\"14.00\">entropy = 0.0</text>\n",
       "<text text-anchor=\"middle\" x=\"56.5\" y=\"-431.3\" font-family=\"Times,serif\" font-size=\"14.00\">samples = 25</text>\n",
       "<text text-anchor=\"middle\" x=\"56.5\" y=\"-416.3\" font-family=\"Times,serif\" font-size=\"14.00\">value = [0, 25, 0]</text>\n",
       "</g>\n",
       "<!-- 3&#45;&gt;4 -->\n",
       "<g id=\"edge4\" class=\"edge\"><title>3&#45;&gt;4</title>\n",
       "<path fill=\"none\" stroke=\"black\" d=\"M142.267,-504.884C127.478,-493.006 110.844,-479.646 96.1887,-467.876\"/>\n",
       "<polygon fill=\"black\" stroke=\"black\" points=\"98.2632,-465.053 88.2748,-461.52 93.8799,-470.511 98.2632,-465.053\"/>\n",
       "</g>\n",
       "<!-- 5 -->\n",
       "<g id=\"node6\" class=\"node\"><title>5</title>\n",
       "<polygon fill=\"none\" stroke=\"black\" points=\"237.5,-461.5 131.5,-461.5 131.5,-408.5 237.5,-408.5 237.5,-461.5\"/>\n",
       "<text text-anchor=\"middle\" x=\"184.5\" y=\"-446.3\" font-family=\"Times,serif\" font-size=\"14.00\">entropy = 0.0</text>\n",
       "<text text-anchor=\"middle\" x=\"184.5\" y=\"-431.3\" font-family=\"Times,serif\" font-size=\"14.00\">samples = 1</text>\n",
       "<text text-anchor=\"middle\" x=\"184.5\" y=\"-416.3\" font-family=\"Times,serif\" font-size=\"14.00\">value = [0, 0, 1]</text>\n",
       "</g>\n",
       "<!-- 3&#45;&gt;5 -->\n",
       "<g id=\"edge5\" class=\"edge\"><title>3&#45;&gt;5</title>\n",
       "<path fill=\"none\" stroke=\"black\" d=\"M183.825,-504.884C183.928,-494.326 184.043,-482.597 184.148,-471.854\"/>\n",
       "<polygon fill=\"black\" stroke=\"black\" points=\"187.652,-471.554 184.25,-461.52 180.652,-471.485 187.652,-471.554\"/>\n",
       "</g>\n",
       "<!-- 7 -->\n",
       "<g id=\"node8\" class=\"node\"><title>7</title>\n",
       "<polygon fill=\"none\" stroke=\"black\" points=\"370,-469 257,-469 257,-401 370,-401 370,-469\"/>\n",
       "<text text-anchor=\"middle\" x=\"313.5\" y=\"-453.8\" font-family=\"Times,serif\" font-size=\"14.00\">X[2] &lt;= 5.3</text>\n",
       "<text text-anchor=\"middle\" x=\"313.5\" y=\"-438.8\" font-family=\"Times,serif\" font-size=\"14.00\">entropy = 0.722</text>\n",
       "<text text-anchor=\"middle\" x=\"313.5\" y=\"-423.8\" font-family=\"Times,serif\" font-size=\"14.00\">samples = 15</text>\n",
       "<text text-anchor=\"middle\" x=\"313.5\" y=\"-408.8\" font-family=\"Times,serif\" font-size=\"14.00\">value = [0, 3, 12]</text>\n",
       "</g>\n",
       "<!-- 6&#45;&gt;7 -->\n",
       "<g id=\"edge7\" class=\"edge\"><title>6&#45;&gt;7</title>\n",
       "<path fill=\"none\" stroke=\"black\" d=\"M314.175,-504.884C314.096,-496.778 314.01,-487.982 313.926,-479.472\"/>\n",
       "<polygon fill=\"black\" stroke=\"black\" points=\"317.424,-479.265 313.826,-469.299 310.425,-479.333 317.424,-479.265\"/>\n",
       "</g>\n",
       "<!-- 16 -->\n",
       "<g id=\"node17\" class=\"node\"><title>16</title>\n",
       "<polygon fill=\"none\" stroke=\"black\" points=\"501,-461.5 388,-461.5 388,-408.5 501,-408.5 501,-461.5\"/>\n",
       "<text text-anchor=\"middle\" x=\"444.5\" y=\"-446.3\" font-family=\"Times,serif\" font-size=\"14.00\">entropy = 0.0</text>\n",
       "<text text-anchor=\"middle\" x=\"444.5\" y=\"-431.3\" font-family=\"Times,serif\" font-size=\"14.00\">samples = 27</text>\n",
       "<text text-anchor=\"middle\" x=\"444.5\" y=\"-416.3\" font-family=\"Times,serif\" font-size=\"14.00\">value = [0, 0, 27]</text>\n",
       "</g>\n",
       "<!-- 6&#45;&gt;16 -->\n",
       "<g id=\"edge16\" class=\"edge\"><title>6&#45;&gt;16</title>\n",
       "<path fill=\"none\" stroke=\"black\" d=\"M356.707,-504.884C371.846,-493.006 388.872,-479.646 403.874,-467.876\"/>\n",
       "<polygon fill=\"black\" stroke=\"black\" points=\"406.268,-470.446 411.975,-461.52 401.947,-464.939 406.268,-470.446\"/>\n",
       "</g>\n",
       "<!-- 8 -->\n",
       "<g id=\"node9\" class=\"node\"><title>8</title>\n",
       "<polygon fill=\"none\" stroke=\"black\" points=\"304.5,-365 198.5,-365 198.5,-297 304.5,-297 304.5,-365\"/>\n",
       "<text text-anchor=\"middle\" x=\"251.5\" y=\"-349.8\" font-family=\"Times,serif\" font-size=\"14.00\">X[1] &lt;= 3.1</text>\n",
       "<text text-anchor=\"middle\" x=\"251.5\" y=\"-334.8\" font-family=\"Times,serif\" font-size=\"14.00\">entropy = 0.918</text>\n",
       "<text text-anchor=\"middle\" x=\"251.5\" y=\"-319.8\" font-family=\"Times,serif\" font-size=\"14.00\">samples = 9</text>\n",
       "<text text-anchor=\"middle\" x=\"251.5\" y=\"-304.8\" font-family=\"Times,serif\" font-size=\"14.00\">value = [0, 3, 6]</text>\n",
       "</g>\n",
       "<!-- 7&#45;&gt;8 -->\n",
       "<g id=\"edge8\" class=\"edge\"><title>7&#45;&gt;8</title>\n",
       "<path fill=\"none\" stroke=\"black\" d=\"M293.37,-400.884C288.173,-392.332 282.508,-383.013 277.073,-374.072\"/>\n",
       "<polygon fill=\"black\" stroke=\"black\" points=\"279.926,-372.027 271.741,-365.299 273.944,-375.663 279.926,-372.027\"/>\n",
       "</g>\n",
       "<!-- 15 -->\n",
       "<g id=\"node16\" class=\"node\"><title>15</title>\n",
       "<polygon fill=\"none\" stroke=\"black\" points=\"428.5,-357.5 322.5,-357.5 322.5,-304.5 428.5,-304.5 428.5,-357.5\"/>\n",
       "<text text-anchor=\"middle\" x=\"375.5\" y=\"-342.3\" font-family=\"Times,serif\" font-size=\"14.00\">entropy = 0.0</text>\n",
       "<text text-anchor=\"middle\" x=\"375.5\" y=\"-327.3\" font-family=\"Times,serif\" font-size=\"14.00\">samples = 6</text>\n",
       "<text text-anchor=\"middle\" x=\"375.5\" y=\"-312.3\" font-family=\"Times,serif\" font-size=\"14.00\">value = [0, 0, 6]</text>\n",
       "</g>\n",
       "<!-- 7&#45;&gt;15 -->\n",
       "<g id=\"edge15\" class=\"edge\"><title>7&#45;&gt;15</title>\n",
       "<path fill=\"none\" stroke=\"black\" d=\"M333.63,-400.884C340.381,-389.776 347.921,-377.372 354.722,-366.184\"/>\n",
       "<polygon fill=\"black\" stroke=\"black\" points=\"357.785,-367.883 359.988,-357.52 351.803,-364.247 357.785,-367.883\"/>\n",
       "</g>\n",
       "<!-- 9 -->\n",
       "<g id=\"node10\" class=\"node\"><title>9</title>\n",
       "<polygon fill=\"none\" stroke=\"black\" points=\"242.5,-261 136.5,-261 136.5,-193 242.5,-193 242.5,-261\"/>\n",
       "<text text-anchor=\"middle\" x=\"189.5\" y=\"-245.8\" font-family=\"Times,serif\" font-size=\"14.00\">X[1] &lt;= 2.75</text>\n",
       "<text text-anchor=\"middle\" x=\"189.5\" y=\"-230.8\" font-family=\"Times,serif\" font-size=\"14.00\">entropy = 0.811</text>\n",
       "<text text-anchor=\"middle\" x=\"189.5\" y=\"-215.8\" font-family=\"Times,serif\" font-size=\"14.00\">samples = 8</text>\n",
       "<text text-anchor=\"middle\" x=\"189.5\" y=\"-200.8\" font-family=\"Times,serif\" font-size=\"14.00\">value = [0, 2, 6]</text>\n",
       "</g>\n",
       "<!-- 8&#45;&gt;9 -->\n",
       "<g id=\"edge9\" class=\"edge\"><title>8&#45;&gt;9</title>\n",
       "<path fill=\"none\" stroke=\"black\" d=\"M231.37,-296.884C226.173,-288.332 220.508,-279.013 215.073,-270.072\"/>\n",
       "<polygon fill=\"black\" stroke=\"black\" points=\"217.926,-268.027 209.741,-261.299 211.944,-271.663 217.926,-268.027\"/>\n",
       "</g>\n",
       "<!-- 14 -->\n",
       "<g id=\"node15\" class=\"node\"><title>14</title>\n",
       "<polygon fill=\"none\" stroke=\"black\" points=\"366.5,-253.5 260.5,-253.5 260.5,-200.5 366.5,-200.5 366.5,-253.5\"/>\n",
       "<text text-anchor=\"middle\" x=\"313.5\" y=\"-238.3\" font-family=\"Times,serif\" font-size=\"14.00\">entropy = 0.0</text>\n",
       "<text text-anchor=\"middle\" x=\"313.5\" y=\"-223.3\" font-family=\"Times,serif\" font-size=\"14.00\">samples = 1</text>\n",
       "<text text-anchor=\"middle\" x=\"313.5\" y=\"-208.3\" font-family=\"Times,serif\" font-size=\"14.00\">value = [0, 1, 0]</text>\n",
       "</g>\n",
       "<!-- 8&#45;&gt;14 -->\n",
       "<g id=\"edge14\" class=\"edge\"><title>8&#45;&gt;14</title>\n",
       "<path fill=\"none\" stroke=\"black\" d=\"M271.63,-296.884C278.381,-285.776 285.921,-273.372 292.722,-262.184\"/>\n",
       "<polygon fill=\"black\" stroke=\"black\" points=\"295.785,-263.883 297.988,-253.52 289.803,-260.247 295.785,-263.883\"/>\n",
       "</g>\n",
       "<!-- 10 -->\n",
       "<g id=\"node11\" class=\"node\"><title>10</title>\n",
       "<polygon fill=\"none\" stroke=\"black\" points=\"180.5,-157 74.5,-157 74.5,-89 180.5,-89 180.5,-157\"/>\n",
       "<text text-anchor=\"middle\" x=\"127.5\" y=\"-141.8\" font-family=\"Times,serif\" font-size=\"14.00\">X[1] &lt;= 2.35</text>\n",
       "<text text-anchor=\"middle\" x=\"127.5\" y=\"-126.8\" font-family=\"Times,serif\" font-size=\"14.00\">entropy = 0.918</text>\n",
       "<text text-anchor=\"middle\" x=\"127.5\" y=\"-111.8\" font-family=\"Times,serif\" font-size=\"14.00\">samples = 3</text>\n",
       "<text text-anchor=\"middle\" x=\"127.5\" y=\"-96.8\" font-family=\"Times,serif\" font-size=\"14.00\">value = [0, 2, 1]</text>\n",
       "</g>\n",
       "<!-- 9&#45;&gt;10 -->\n",
       "<g id=\"edge10\" class=\"edge\"><title>9&#45;&gt;10</title>\n",
       "<path fill=\"none\" stroke=\"black\" d=\"M169.37,-192.884C164.173,-184.332 158.508,-175.013 153.073,-166.072\"/>\n",
       "<polygon fill=\"black\" stroke=\"black\" points=\"155.926,-164.027 147.741,-157.299 149.944,-167.663 155.926,-164.027\"/>\n",
       "</g>\n",
       "<!-- 13 -->\n",
       "<g id=\"node14\" class=\"node\"><title>13</title>\n",
       "<polygon fill=\"none\" stroke=\"black\" points=\"304.5,-149.5 198.5,-149.5 198.5,-96.5 304.5,-96.5 304.5,-149.5\"/>\n",
       "<text text-anchor=\"middle\" x=\"251.5\" y=\"-134.3\" font-family=\"Times,serif\" font-size=\"14.00\">entropy = 0.0</text>\n",
       "<text text-anchor=\"middle\" x=\"251.5\" y=\"-119.3\" font-family=\"Times,serif\" font-size=\"14.00\">samples = 5</text>\n",
       "<text text-anchor=\"middle\" x=\"251.5\" y=\"-104.3\" font-family=\"Times,serif\" font-size=\"14.00\">value = [0, 0, 5]</text>\n",
       "</g>\n",
       "<!-- 9&#45;&gt;13 -->\n",
       "<g id=\"edge13\" class=\"edge\"><title>9&#45;&gt;13</title>\n",
       "<path fill=\"none\" stroke=\"black\" d=\"M209.63,-192.884C216.381,-181.776 223.921,-169.372 230.722,-158.184\"/>\n",
       "<polygon fill=\"black\" stroke=\"black\" points=\"233.785,-159.883 235.988,-149.52 227.803,-156.247 233.785,-159.883\"/>\n",
       "</g>\n",
       "<!-- 11 -->\n",
       "<g id=\"node12\" class=\"node\"><title>11</title>\n",
       "<polygon fill=\"none\" stroke=\"black\" points=\"118.5,-53 12.5,-53 12.5,-0 118.5,-0 118.5,-53\"/>\n",
       "<text text-anchor=\"middle\" x=\"65.5\" y=\"-37.8\" font-family=\"Times,serif\" font-size=\"14.00\">entropy = 0.0</text>\n",
       "<text text-anchor=\"middle\" x=\"65.5\" y=\"-22.8\" font-family=\"Times,serif\" font-size=\"14.00\">samples = 1</text>\n",
       "<text text-anchor=\"middle\" x=\"65.5\" y=\"-7.8\" font-family=\"Times,serif\" font-size=\"14.00\">value = [0, 0, 1]</text>\n",
       "</g>\n",
       "<!-- 10&#45;&gt;11 -->\n",
       "<g id=\"edge11\" class=\"edge\"><title>10&#45;&gt;11</title>\n",
       "<path fill=\"none\" stroke=\"black\" d=\"M105.815,-88.9485C100.054,-80.1664 93.8185,-70.6629 88.0136,-61.815\"/>\n",
       "<polygon fill=\"black\" stroke=\"black\" points=\"90.7975,-59.6779 82.3855,-53.2367 84.9447,-63.5178 90.7975,-59.6779\"/>\n",
       "</g>\n",
       "<!-- 12 -->\n",
       "<g id=\"node13\" class=\"node\"><title>12</title>\n",
       "<polygon fill=\"none\" stroke=\"black\" points=\"242.5,-53 136.5,-53 136.5,-0 242.5,-0 242.5,-53\"/>\n",
       "<text text-anchor=\"middle\" x=\"189.5\" y=\"-37.8\" font-family=\"Times,serif\" font-size=\"14.00\">entropy = 0.0</text>\n",
       "<text text-anchor=\"middle\" x=\"189.5\" y=\"-22.8\" font-family=\"Times,serif\" font-size=\"14.00\">samples = 2</text>\n",
       "<text text-anchor=\"middle\" x=\"189.5\" y=\"-7.8\" font-family=\"Times,serif\" font-size=\"14.00\">value = [0, 2, 0]</text>\n",
       "</g>\n",
       "<!-- 10&#45;&gt;12 -->\n",
       "<g id=\"edge12\" class=\"edge\"><title>10&#45;&gt;12</title>\n",
       "<path fill=\"none\" stroke=\"black\" d=\"M149.185,-88.9485C154.946,-80.1664 161.181,-70.6629 166.986,-61.815\"/>\n",
       "<polygon fill=\"black\" stroke=\"black\" points=\"170.055,-63.5178 172.615,-53.2367 164.203,-59.6779 170.055,-63.5178\"/>\n",
       "</g>\n",
       "</g>\n",
       "</svg>\n"
      ],
      "text/plain": [
       "<graphviz.files.Source at 0x7f8411b81ef0>"
      ]
     },
     "execution_count": 11,
     "metadata": {},
     "output_type": "execute_result"
    }
   ],
   "source": [
    "from sklearn.tree import export_graphviz\n",
    "from graphviz import Source\n",
    "\n",
    "export_graphviz(clf) \n",
    "# Source(export_graphviz(clf, out_file=None, feature_names=digits.feature_names))\n",
    "Source(export_graphviz(clf, out_file=None))"
   ]
  },
  {
   "cell_type": "code",
   "execution_count": 70,
   "metadata": {
    "collapsed": true
   },
   "outputs": [],
   "source": [
    "import numpy as np\n",
    "import matplotlib.pyplot as plt\n",
    "\n",
    "def plot_2d_separator(classifier, X, fill=False, line=True, ax=None, eps=None):\n",
    "    if eps is None:\n",
    "        eps = 1.0 #X.std() / 2.\n",
    "    x_min, x_max = X[:, 0].min() - eps, X[:, 0].max() + eps\n",
    "    y_min, y_max = X[:, 1].min() - eps, X[:, 1].max() + eps\n",
    "    xx = np.linspace(x_min, x_max, 100)\n",
    "    yy = np.linspace(y_min, y_max, 100)\n",
    "\n",
    "    X1, X2 = np.meshgrid(xx, yy)\n",
    "    X_grid = np.c_[X1.ravel(), X2.ravel()]\n",
    "    try:\n",
    "        decision_values = classifier.decision_function(X_grid)\n",
    "        levels = [0]\n",
    "        fill_levels = [decision_values.min(), 0, decision_values.max()]\n",
    "    except AttributeError:\n",
    "        # no decision_function\n",
    "        decision_values = classifier.predict_proba(X_grid)[:, 1]\n",
    "        levels = [.5]\n",
    "        fill_levels = [0, .5, 1]\n",
    "\n",
    "    if ax is None:\n",
    "        ax = plt.gca()\n",
    "    if fill:\n",
    "        ax.contourf(X1, X2, decision_values.reshape(X1.shape),\n",
    "                    levels=fill_levels, colors=['cyan', 'pink'])\n",
    "    if line:\n",
    "        ax.contour(X1, X2, decision_values.reshape(X1.shape), levels=levels,\n",
    "                   colors=\"black\")\n",
    "    ax.set_xlim(x_min, x_max)\n",
    "    ax.set_ylim(y_min, y_max)\n",
    "    ax.set_xticks(())\n",
    "    ax.set_yticks(())"
   ]
  },
  {
   "cell_type": "code",
   "execution_count": 104,
   "metadata": {
    "collapsed": false
   },
   "outputs": [
    {
     "data": {
      "image/png": "[encoded data removed]",
      "text/plain": [
       "<matplotlib.figure.Figure at 0x7ff88457c9b0>"
      ]
     },
     "metadata": {},
     "output_type": "display_data"
    }
   ],
   "source": [
    "plt.rcParams['figure.figsize'] = 8, 8\n",
    "plt.xlabel(\"first feature\")\n",
    "plt.ylabel(\"second feature\")\n",
    "plot_2d_separator(clf, X_train, fill=True, line=True)\n",
    "plt.scatter(X[:, 0], X[:, 1], c=y, s=70)\n",
    "plt.show()"
   ]
  },
  {
   "cell_type": "markdown",
   "metadata": {},
   "source": [
    "# Регрессия"
   ]
  },
  {
   "cell_type": "code",
   "execution_count": 122,
   "metadata": {
    "collapsed": true
   },
   "outputs": [],
   "source": [
    "from sklearn.tree import DecisionTreeRegressor\n",
    "reg = DecisionTreeRegressor(random_state=0)\n",
    "reg.fit(X_train, y_train)\n",
    "pred = reg.predict(X_test)"
   ]
  },
  {
   "cell_type": "code",
   "execution_count": 124,
   "metadata": {
    "collapsed": false
   },
   "outputs": [
    {
     "name": "stdout",
     "output_type": "stream",
     "text": [
      "[ 24.8  50.   16.6  21.1  27.5  13.8  20.   17.9  29.8  17.2  17.4  22.5\n",
      "  22.5  14.1  21.   23.2  10.2   5.   19.5  15.   50.   14.8  21.2  17.1\n",
      "  20.3  18.2  24.3  20.   22.3  22.2  23.1  14.4  28.1  20.8  23.1  22.7\n",
      "  23.4  21.8  12.5  17.5  43.8  37.9  14.2  24.6  23.9  20.3  27.1  23.6\n",
      "  24.7  13.9  36.1  13.1  15.2  12.7  26.4  34.9  10.4  23.9  17.3  29.9\n",
      "  20.4  22.2  27.1  27.   32.4  20.1  16.1  19.8  24.8  12.6  20.1  24.7\n",
      "  21.4  23.2  37.3  29.8  50.   18.5  14.2   7.4  17.3  13.9  50.   33.4\n",
      "  39.8  14.9  33.8  19.1  20.3  18.2  37.9  24.6  46.   21.   20.3  31.\n",
      "  20.1  33.4  18.7  23.2  15.2   7.2  32.    8.4  21.4  13.3  24.1  18.7\n",
      "  18.3  43.8  29.9  20.4  20.6  50.   24.   20.   25.   14.5  14.5  30.3\n",
      "  24.   11.8  18.7  50.   24.6  14.2  16.8  50.   46.   23.1  37.   23.1\n",
      "  14.4  16.6  11.8  22.6  37.   20.   24.6  24.6  21.2  21.7  22.6  28.1\n",
      "  20.   28.1  20.3  15.   28.5   5.   17.8  12.5]\n",
      "[ 22.   48.8  23.1  11.9  22.8  13.8  19.3  16.3  23.3  17.6  18.1  21.2\n",
      "  17.5  13.4  22.   10.9   7.2   5.   20.6  16.5  43.5  13.9  20.8  18.\n",
      "  20.4  18.5  22.   16.8  19.6  22.9  23.3  14.6  19.8  20.6  24.4  20.8\n",
      "  21.7  22.8  13.1  18.9  42.8  33.2  16.7  22.3  29.8  18.9  18.8  28.7\n",
      "  23.1  13.3  35.4  15.6  13.1   8.3  19.6  32.9   8.5  25.   13.3  22.\n",
      "  13.8  36.2  19.5  24.3  32.   19.3  23.8  17.5  22.9  18.4  20.3  24.4\n",
      "  21.7  13.5  34.9  24.1  43.1  16.6  13.8  10.5  15.7  10.2  42.3  33.\n",
      "  50.   16.4  32.7  21.4  22.6  16.2  34.7  21.9  21.9  18.9  23.3  26.7\n",
      "  18.9  36.2  21.7  21.7  14.6   5.6  30.5   8.4  29.6  15.4  23.4  21.5\n",
      "  21.8  38.7  29.4  21.4  20.5  50.   22.2  20.7  25.   20.2  11.7  29.\n",
      "  24.3   9.5  18.3  50.   24.1  11.7  22.   50.   46.7  23.9  34.9  20.4\n",
      "  17.8  15.6  13.4  24.7  36.4  23.7  23.5  23.2  22.9  19.1  20.9  26.4\n",
      "  21.2  20.1  24.5  10.4  28.2  10.9  19.5  17.8]\n"
     ]
    }
   ],
   "source": [
    "print(pred)\n",
    "print(y_test)"
   ]
  },
  {
   "cell_type": "markdown",
   "metadata": {},
   "source": [
    "# Кластеризация"
   ]
  },
  {
   "cell_type": "code",
   "execution_count": 114,
   "metadata": {
    "collapsed": false
   },
   "outputs": [
    {
     "data": {
      "image/png": "[encoded data removed]",
      "text/plain": [
       "<matplotlib.figure.Figure at 0x7ff8716b74a8>"
      ]
     },
     "metadata": {},
     "output_type": "display_data"
    }
   ],
   "source": [
    "from sklearn.cluster import KMeans\n",
    "kmeans = KMeans(n_clusters=3)\n",
    "labels = kmeans.fit_predict(X)\n",
    "plt.scatter(X[:, 0], X[:, 1], c=labels, s=70)\n",
    "\n",
    "mu = kmeans.cluster_centers_\n",
    "plt.scatter(mu[:,0], mu[:,1], s=50, c='black', marker='s')\n",
    "plt.show()"
   ]
  },
  {
   "cell_type": "code",
   "execution_count": 118,
   "metadata": {
    "collapsed": false
   },
   "outputs": [
    {
     "data": {
      "image/png": "[encoded data removed]",
      "text/plain": [
       "<matplotlib.figure.Figure at 0x7ff8848ac940>"
      ]
     },
     "metadata": {},
     "output_type": "display_data"
    }
   ],
   "source": [
    "from sklearn.cluster import DBSCAN\n",
    "db = DBSCAN(eps=0.3, min_samples=3)\n",
    "labels = db.fit_predict(X)\n",
    "\n",
    "plt.scatter(X[:, 0], X[:, 1], c=labels, s=70)\n",
    "plt.show()"
   ]
  },
  {
   "cell_type": "code",
   "execution_count": null,
   "metadata": {
    "collapsed": true
   },
   "outputs": [],
   "source": []
  }
 ],
 "metadata": {
  "kernelspec": {
   "display_name": "Python 3",
   "language": "python",
   "name": "python3"
  },
  "language_info": {
   "codemirror_mode": {
    "name": "ipython",
    "version": 3
   },
   "file_extension": ".py",
   "mimetype": "text/x-python",
   "name": "python",
   "nbconvert_exporter": "python",
   "pygments_lexer": "ipython3",
   "version": "3.6.10"
  }
 },
 "nbformat": 4,
 "nbformat_minor": 2
}
