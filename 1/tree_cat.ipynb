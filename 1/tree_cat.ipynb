{
 "cells": [
  {
   "cell_type": "code",
   "execution_count": 9,
   "metadata": {},
   "outputs": [
    {
     "name": "stdout",
     "output_type": "stream",
     "text": [
      "{'data': array([[ 0.03807591,  0.05068012,  0.06169621, ..., -0.00259226,\n",
      "         0.01990842, -0.01764613],\n",
      "       [-0.00188202, -0.04464164, -0.05147406, ..., -0.03949338,\n",
      "        -0.06832974, -0.09220405],\n",
      "       [ 0.08529891,  0.05068012,  0.04445121, ..., -0.00259226,\n",
      "         0.00286377, -0.02593034],\n",
      "       ..., \n",
      "       [ 0.04170844,  0.05068012, -0.01590626, ..., -0.01107952,\n",
      "        -0.04687948,  0.01549073],\n",
      "       [-0.04547248, -0.04464164,  0.03906215, ...,  0.02655962,\n",
      "         0.04452837, -0.02593034],\n",
      "       [-0.04547248, -0.04464164, -0.0730303 , ..., -0.03949338,\n",
      "        -0.00421986,  0.00306441]]), 'target': array([ 151.,   75.,  141.,  206.,  135.,   97.,  138.,   63.,  110.,\n",
      "        310.,  101.,   69.,  179.,  185.,  118.,  171.,  166.,  144.,\n",
      "         97.,  168.,   68.,   49.,   68.,  245.,  184.,  202.,  137.,\n",
      "         85.,  131.,  283.,  129.,   59.,  341.,   87.,   65.,  102.,\n",
      "        265.,  276.,  252.,   90.,  100.,   55.,   61.,   92.,  259.,\n",
      "         53.,  190.,  142.,   75.,  142.,  155.,  225.,   59.,  104.,\n",
      "        182.,  128.,   52.,   37.,  170.,  170.,   61.,  144.,   52.,\n",
      "        128.,   71.,  163.,  150.,   97.,  160.,  178.,   48.,  270.,\n",
      "        202.,  111.,   85.,   42.,  170.,  200.,  252.,  113.,  143.,\n",
      "         51.,   52.,  210.,   65.,  141.,   55.,  134.,   42.,  111.,\n",
      "         98.,  164.,   48.,   96.,   90.,  162.,  150.,  279.,   92.,\n",
      "         83.,  128.,  102.,  302.,  198.,   95.,   53.,  134.,  144.,\n",
      "        232.,   81.,  104.,   59.,  246.,  297.,  258.,  229.,  275.,\n",
      "        281.,  179.,  200.,  200.,  173.,  180.,   84.,  121.,  161.,\n",
      "         99.,  109.,  115.,  268.,  274.,  158.,  107.,   83.,  103.,\n",
      "        272.,   85.,  280.,  336.,  281.,  118.,  317.,  235.,   60.,\n",
      "        174.,  259.,  178.,  128.,   96.,  126.,  288.,   88.,  292.,\n",
      "         71.,  197.,  186.,   25.,   84.,   96.,  195.,   53.,  217.,\n",
      "        172.,  131.,  214.,   59.,   70.,  220.,  268.,  152.,   47.,\n",
      "         74.,  295.,  101.,  151.,  127.,  237.,  225.,   81.,  151.,\n",
      "        107.,   64.,  138.,  185.,  265.,  101.,  137.,  143.,  141.,\n",
      "         79.,  292.,  178.,   91.,  116.,   86.,  122.,   72.,  129.,\n",
      "        142.,   90.,  158.,   39.,  196.,  222.,  277.,   99.,  196.,\n",
      "        202.,  155.,   77.,  191.,   70.,   73.,   49.,   65.,  263.,\n",
      "        248.,  296.,  214.,  185.,   78.,   93.,  252.,  150.,   77.,\n",
      "        208.,   77.,  108.,  160.,   53.,  220.,  154.,  259.,   90.,\n",
      "        246.,  124.,   67.,   72.,  257.,  262.,  275.,  177.,   71.,\n",
      "         47.,  187.,  125.,   78.,   51.,  258.,  215.,  303.,  243.,\n",
      "         91.,  150.,  310.,  153.,  346.,   63.,   89.,   50.,   39.,\n",
      "        103.,  308.,  116.,  145.,   74.,   45.,  115.,  264.,   87.,\n",
      "        202.,  127.,  182.,  241.,   66.,   94.,  283.,   64.,  102.,\n",
      "        200.,  265.,   94.,  230.,  181.,  156.,  233.,   60.,  219.,\n",
      "         80.,   68.,  332.,  248.,   84.,  200.,   55.,   85.,   89.,\n",
      "         31.,  129.,   83.,  275.,   65.,  198.,  236.,  253.,  124.,\n",
      "         44.,  172.,  114.,  142.,  109.,  180.,  144.,  163.,  147.,\n",
      "         97.,  220.,  190.,  109.,  191.,  122.,  230.,  242.,  248.,\n",
      "        249.,  192.,  131.,  237.,   78.,  135.,  244.,  199.,  270.,\n",
      "        164.,   72.,   96.,  306.,   91.,  214.,   95.,  216.,  263.,\n",
      "        178.,  113.,  200.,  139.,  139.,   88.,  148.,   88.,  243.,\n",
      "         71.,   77.,  109.,  272.,   60.,   54.,  221.,   90.,  311.,\n",
      "        281.,  182.,  321.,   58.,  262.,  206.,  233.,  242.,  123.,\n",
      "        167.,   63.,  197.,   71.,  168.,  140.,  217.,  121.,  235.,\n",
      "        245.,   40.,   52.,  104.,  132.,   88.,   69.,  219.,   72.,\n",
      "        201.,  110.,   51.,  277.,   63.,  118.,   69.,  273.,  258.,\n",
      "         43.,  198.,  242.,  232.,  175.,   93.,  168.,  275.,  293.,\n",
      "        281.,   72.,  140.,  189.,  181.,  209.,  136.,  261.,  113.,\n",
      "        131.,  174.,  257.,   55.,   84.,   42.,  146.,  212.,  233.,\n",
      "         91.,  111.,  152.,  120.,   67.,  310.,   94.,  183.,   66.,\n",
      "        173.,   72.,   49.,   64.,   48.,  178.,  104.,  132.,  220.,   57.]), 'DESCR': 'Diabetes dataset\\n================\\n\\nNotes\\n-----\\n\\nTen baseline variables, age, sex, body mass index, average blood\\npressure, and six blood serum measurements were obtained for each of n =\\n442 diabetes patients, as well as the response of interest, a\\nquantitative measure of disease progression one year after baseline.\\n\\nData Set Characteristics:\\n\\n  :Number of Instances: 442\\n\\n  :Number of Attributes: First 10 columns are numeric predictive values\\n\\n  :Target: Column 11 is a quantitative measure of disease progression one year after baseline\\n\\n  :Attributes:\\n    :Age:\\n    :Sex:\\n    :Body mass index:\\n    :Average blood pressure:\\n    :S1:\\n    :S2:\\n    :S3:\\n    :S4:\\n    :S5:\\n    :S6:\\n\\nNote: Each of these 10 feature variables have been mean centered and scaled by the standard deviation times `n_samples` (i.e. the sum of squares of each column totals 1).\\n\\nSource URL:\\nhttp://www4.stat.ncsu.edu/~boos/var.select/diabetes.html\\n\\nFor more information see:\\nBradley Efron, Trevor Hastie, Iain Johnstone and Robert Tibshirani (2004) \"Least Angle Regression,\" Annals of Statistics (with discussion), 407-499.\\n(http://web.stanford.edu/~hastie/Papers/LARS/LeastAngle_2002.pdf)\\n', 'feature_names': ['age', 'sex', 'bmi', 'bp', 's1', 's2', 's3', 's4', 's5', 's6']}\n"
     ]
    }
   ],
   "source": [
    "import pandas as pd\n",
    "from sklearn.datasets import * \n",
    "\n",
    "diabetes = load_diabetes()\n",
    "print(diabetes)\n",
    "\n",
    "# print(diabetes.DESC)\n",
    "# print(diabetes.target_names)"
   ]
  },
  {
   "cell_type": "code",
   "execution_count": 23,
   "metadata": {},
   "outputs": [
    {
     "name": "stdout",
     "output_type": "stream",
     "text": [
      "     Outlook Temperature Humidity    Wind Play\n",
      "0      Sunny         Hot     High    Weak   No\n",
      "1      Sunny         Hot     High  Strong   No\n",
      "2   Overcast         Hot     High    Weak  Yes\n",
      "3       Rain        Mild     High    Weak  Yes\n",
      "4       Rain        Cool   Normal    Weak  Yes\n",
      "5       Rain        Cool   Normal  Strong   No\n",
      "6   Overcast        Cool   Normal  Strong  Yes\n",
      "7      Sunny        Mild     High    Weak   No\n",
      "8      Sunny        Cool   Normal    Weak  Yes\n",
      "9       Rain        Mild   Normal    Weak  Yes\n",
      "10     Sunny        Mild   Normal  Strong  Yes\n",
      "11  Overcast        Mild     High  Strong  Yes\n",
      "12  Overcast         Hot   Normal    Weak  Yes\n",
      "13      Rain        Mild     High  Strong   No\n"
     ]
    }
   ],
   "source": [
    "X = pd.read_csv('./data.csv', delimiter='\\t', engine='python')\n",
    "print(X)"
   ]
  },
  {
   "cell_type": "code",
   "execution_count": 24,
   "metadata": {},
   "outputs": [
    {
     "name": "stdout",
     "output_type": "stream",
     "text": [
      "    Outlook  Temperature  Humidity  Wind  Play\n",
      "0         2            1         0     1     0\n",
      "1         2            1         0     0     0\n",
      "2         0            1         0     1     1\n",
      "3         1            2         0     1     1\n",
      "4         1            0         1     1     1\n",
      "5         1            0         1     0     0\n",
      "6         0            0         1     0     1\n",
      "7         2            2         0     1     0\n",
      "8         2            0         1     1     1\n",
      "9         1            2         1     1     1\n",
      "10        2            2         1     0     1\n",
      "11        0            2         0     0     1\n",
      "12        0            1         1     1     1\n",
      "13        1            2         0     0     0\n"
     ]
    }
   ],
   "source": [
    "X['Outlook'] = X['Outlook'].astype('category')\n",
    "X['Outlook'] = X['Outlook'].cat.codes\n",
    "\n",
    "X['Temperature'] = X['Temperature'].astype('category')\n",
    "X['Temperature'] = X['Temperature'].cat.codes\n",
    "\n",
    "X['Humidity'] = X['Humidity'].astype('category')\n",
    "X['Humidity'] = X['Humidity'].cat.codes\n",
    "\n",
    "X['Wind'] = X['Wind'].astype('category')\n",
    "X['Wind'] = X['Wind'].cat.codes\n",
    "\n",
    "X['Play'] = X['Play'].astype('category')\n",
    "X['Play'] = X['Play'].cat.codes\n",
    "\n",
    "print(X)"
   ]
  },
  {
   "cell_type": "code",
   "execution_count": 25,
   "metadata": {},
   "outputs": [
    {
     "name": "stdout",
     "output_type": "stream",
     "text": [
      "    Play  out_0  out_1  out_2  temp_0  temp_1  temp_2  hum_0  hum_1  wind_0  \\\n",
      "0      0      0      0      1       0       1       0      1      0       0   \n",
      "1      0      0      0      1       0       1       0      1      0       1   \n",
      "2      1      1      0      0       0       1       0      1      0       0   \n",
      "3      1      0      1      0       0       0       1      1      0       0   \n",
      "4      1      0      1      0       1       0       0      0      1       0   \n",
      "5      0      0      1      0       1       0       0      0      1       1   \n",
      "6      1      1      0      0       1       0       0      0      1       1   \n",
      "7      0      0      0      1       0       0       1      1      0       0   \n",
      "8      1      0      0      1       1       0       0      0      1       0   \n",
      "9      1      0      1      0       0       0       1      0      1       0   \n",
      "10     1      0      0      1       0       0       1      0      1       1   \n",
      "11     1      1      0      0       0       0       1      1      0       1   \n",
      "12     1      1      0      0       0       1       0      0      1       0   \n",
      "13     0      0      1      0       0       0       1      1      0       1   \n",
      "\n",
      "    wind_1  \n",
      "0        1  \n",
      "1        0  \n",
      "2        1  \n",
      "3        1  \n",
      "4        1  \n",
      "5        0  \n",
      "6        0  \n",
      "7        1  \n",
      "8        1  \n",
      "9        1  \n",
      "10       0  \n",
      "11       0  \n",
      "12       1  \n",
      "13       0  \n"
     ]
    }
   ],
   "source": [
    "X = pd.get_dummies(X, prefix=['out', 'temp', 'hum', 'wind'], columns=['Outlook','Temperature', 'Humidity', 'Wind'])\n",
    "print(X)"
   ]
  },
  {
   "cell_type": "code",
   "execution_count": 16,
   "metadata": {},
   "outputs": [],
   "source": [
    "y = X['Play']\n",
    "del X['Play']"
   ]
  },
  {
   "cell_type": "code",
   "execution_count": 19,
   "metadata": {},
   "outputs": [
    {
     "data": {
      "text/plain": [
       "DecisionTreeClassifier(class_weight=None, criterion='entropy', max_depth=None,\n",
       "            max_features=None, max_leaf_nodes=None,\n",
       "            min_impurity_decrease=0.0, min_impurity_split=None,\n",
       "            min_samples_leaf=1, min_samples_split=2,\n",
       "            min_weight_fraction_leaf=0.0, presort=False, random_state=None,\n",
       "            splitter='best')"
      ]
     },
     "execution_count": 19,
     "metadata": {},
     "output_type": "execute_result"
    }
   ],
   "source": [
    "from sklearn.tree import DecisionTreeClassifier\n",
    "clf = DecisionTreeClassifier(criterion='entropy')\n",
    "clf.fit(X, y)"
   ]
  },
  {
   "cell_type": "code",
   "execution_count": 20,
   "metadata": {},
   "outputs": [
    {
     "name": "stderr",
     "output_type": "stream",
     "text": [
      "/home/com/miniconda2/envs/py36/lib/python3.6/site-packages/sklearn/tree/export.py:399: DeprecationWarning: out_file can be set to None starting from 0.18. This will be the default in 0.20.\n",
      "  DeprecationWarning)\n"
     ]
    },
    {
     "data": {
      "image/svg+xml": [
       "<?xml version=\"1.0\" encoding=\"UTF-8\" standalone=\"no\"?>\n",
       "<!DOCTYPE svg PUBLIC \"-//W3C//DTD SVG 1.1//EN\"\n",
       " \"http://www.w3.org/Graphics/SVG/1.1/DTD/svg11.dtd\">\n",
       "<!-- Generated by graphviz version 2.38.0 (20140413.2041)\n",
       " -->\n",
       "<!-- Title: Tree Pages: 1 -->\n",
       "<svg width=\"488pt\" height=\"477pt\"\n",
       " viewBox=\"0.00 0.00 488.00 477.00\" xmlns=\"http://www.w3.org/2000/svg\" xmlns:xlink=\"http://www.w3.org/1999/xlink\">\n",
       "<g id=\"graph0\" class=\"graph\" transform=\"scale(1 1) rotate(0) translate(4 473)\">\n",
       "<title>Tree</title>\n",
       "<polygon fill=\"white\" stroke=\"none\" points=\"-4,4 -4,-473 484,-473 484,4 -4,4\"/>\n",
       "<!-- 0 -->\n",
       "<g id=\"node1\" class=\"node\"><title>0</title>\n",
       "<polygon fill=\"none\" stroke=\"black\" points=\"260,-469 162,-469 162,-401 260,-401 260,-469\"/>\n",
       "<text text-anchor=\"middle\" x=\"211\" y=\"-453.8\" font-family=\"Times,serif\" font-size=\"14.00\">X[0] &lt;= 0.5</text>\n",
       "<text text-anchor=\"middle\" x=\"211\" y=\"-438.8\" font-family=\"Times,serif\" font-size=\"14.00\">entropy = 0.94</text>\n",
       "<text text-anchor=\"middle\" x=\"211\" y=\"-423.8\" font-family=\"Times,serif\" font-size=\"14.00\">samples = 14</text>\n",
       "<text text-anchor=\"middle\" x=\"211\" y=\"-408.8\" font-family=\"Times,serif\" font-size=\"14.00\">value = [5, 9]</text>\n",
       "</g>\n",
       "<!-- 1 -->\n",
       "<g id=\"node2\" class=\"node\"><title>1</title>\n",
       "<polygon fill=\"none\" stroke=\"black\" points=\"202,-357.5 110,-357.5 110,-304.5 202,-304.5 202,-357.5\"/>\n",
       "<text text-anchor=\"middle\" x=\"156\" y=\"-342.3\" font-family=\"Times,serif\" font-size=\"14.00\">entropy = 0.0</text>\n",
       "<text text-anchor=\"middle\" x=\"156\" y=\"-327.3\" font-family=\"Times,serif\" font-size=\"14.00\">samples = 4</text>\n",
       "<text text-anchor=\"middle\" x=\"156\" y=\"-312.3\" font-family=\"Times,serif\" font-size=\"14.00\">value = [0, 4]</text>\n",
       "</g>\n",
       "<!-- 0&#45;&gt;1 -->\n",
       "<g id=\"edge1\" class=\"edge\"><title>0&#45;&gt;1</title>\n",
       "<path fill=\"none\" stroke=\"black\" d=\"M193.143,-400.884C187.213,-389.886 180.598,-377.617 174.612,-366.517\"/>\n",
       "<polygon fill=\"black\" stroke=\"black\" points=\"177.588,-364.661 169.761,-357.52 171.426,-367.983 177.588,-364.661\"/>\n",
       "<text text-anchor=\"middle\" x=\"162.591\" y=\"-377.77\" font-family=\"Times,serif\" font-size=\"14.00\">True</text>\n",
       "</g>\n",
       "<!-- 2 -->\n",
       "<g id=\"node3\" class=\"node\"><title>2</title>\n",
       "<polygon fill=\"none\" stroke=\"black\" points=\"312,-365 220,-365 220,-297 312,-297 312,-365\"/>\n",
       "<text text-anchor=\"middle\" x=\"266\" y=\"-349.8\" font-family=\"Times,serif\" font-size=\"14.00\">X[2] &lt;= 0.5</text>\n",
       "<text text-anchor=\"middle\" x=\"266\" y=\"-334.8\" font-family=\"Times,serif\" font-size=\"14.00\">entropy = 1.0</text>\n",
       "<text text-anchor=\"middle\" x=\"266\" y=\"-319.8\" font-family=\"Times,serif\" font-size=\"14.00\">samples = 10</text>\n",
       "<text text-anchor=\"middle\" x=\"266\" y=\"-304.8\" font-family=\"Times,serif\" font-size=\"14.00\">value = [5, 5]</text>\n",
       "</g>\n",
       "<!-- 0&#45;&gt;2 -->\n",
       "<g id=\"edge2\" class=\"edge\"><title>0&#45;&gt;2</title>\n",
       "<path fill=\"none\" stroke=\"black\" d=\"M228.857,-400.884C233.42,-392.422 238.388,-383.207 243.163,-374.352\"/>\n",
       "<polygon fill=\"black\" stroke=\"black\" points=\"246.379,-375.762 248.044,-365.299 240.218,-372.44 246.379,-375.762\"/>\n",
       "<text text-anchor=\"middle\" x=\"255.214\" y=\"-385.549\" font-family=\"Times,serif\" font-size=\"14.00\">False</text>\n",
       "</g>\n",
       "<!-- 3 -->\n",
       "<g id=\"node4\" class=\"node\"><title>3</title>\n",
       "<polygon fill=\"none\" stroke=\"black\" points=\"257,-261 153,-261 153,-193 257,-193 257,-261\"/>\n",
       "<text text-anchor=\"middle\" x=\"205\" y=\"-245.8\" font-family=\"Times,serif\" font-size=\"14.00\">X[0] &lt;= 1.5</text>\n",
       "<text text-anchor=\"middle\" x=\"205\" y=\"-230.8\" font-family=\"Times,serif\" font-size=\"14.00\">entropy = 0.722</text>\n",
       "<text text-anchor=\"middle\" x=\"205\" y=\"-215.8\" font-family=\"Times,serif\" font-size=\"14.00\">samples = 5</text>\n",
       "<text text-anchor=\"middle\" x=\"205\" y=\"-200.8\" font-family=\"Times,serif\" font-size=\"14.00\">value = [4, 1]</text>\n",
       "</g>\n",
       "<!-- 2&#45;&gt;3 -->\n",
       "<g id=\"edge3\" class=\"edge\"><title>2&#45;&gt;3</title>\n",
       "<path fill=\"none\" stroke=\"black\" d=\"M246.195,-296.884C241.081,-288.332 235.508,-279.013 230.161,-270.072\"/>\n",
       "<polygon fill=\"black\" stroke=\"black\" points=\"233.051,-268.085 224.914,-261.299 227.043,-271.678 233.051,-268.085\"/>\n",
       "</g>\n",
       "<!-- 8 -->\n",
       "<g id=\"node9\" class=\"node\"><title>8</title>\n",
       "<polygon fill=\"none\" stroke=\"black\" points=\"379,-261 275,-261 275,-193 379,-193 379,-261\"/>\n",
       "<text text-anchor=\"middle\" x=\"327\" y=\"-245.8\" font-family=\"Times,serif\" font-size=\"14.00\">X[3] &lt;= 0.5</text>\n",
       "<text text-anchor=\"middle\" x=\"327\" y=\"-230.8\" font-family=\"Times,serif\" font-size=\"14.00\">entropy = 0.722</text>\n",
       "<text text-anchor=\"middle\" x=\"327\" y=\"-215.8\" font-family=\"Times,serif\" font-size=\"14.00\">samples = 5</text>\n",
       "<text text-anchor=\"middle\" x=\"327\" y=\"-200.8\" font-family=\"Times,serif\" font-size=\"14.00\">value = [1, 4]</text>\n",
       "</g>\n",
       "<!-- 2&#45;&gt;8 -->\n",
       "<g id=\"edge8\" class=\"edge\"><title>2&#45;&gt;8</title>\n",
       "<path fill=\"none\" stroke=\"black\" d=\"M285.805,-296.884C290.919,-288.332 296.492,-279.013 301.839,-270.072\"/>\n",
       "<polygon fill=\"black\" stroke=\"black\" points=\"304.957,-271.678 307.086,-261.299 298.949,-268.085 304.957,-271.678\"/>\n",
       "</g>\n",
       "<!-- 4 -->\n",
       "<g id=\"node5\" class=\"node\"><title>4</title>\n",
       "<polygon fill=\"none\" stroke=\"black\" points=\"144,-157 52,-157 52,-89 144,-89 144,-157\"/>\n",
       "<text text-anchor=\"middle\" x=\"98\" y=\"-141.8\" font-family=\"Times,serif\" font-size=\"14.00\">X[3] &lt;= 0.5</text>\n",
       "<text text-anchor=\"middle\" x=\"98\" y=\"-126.8\" font-family=\"Times,serif\" font-size=\"14.00\">entropy = 1.0</text>\n",
       "<text text-anchor=\"middle\" x=\"98\" y=\"-111.8\" font-family=\"Times,serif\" font-size=\"14.00\">samples = 2</text>\n",
       "<text text-anchor=\"middle\" x=\"98\" y=\"-96.8\" font-family=\"Times,serif\" font-size=\"14.00\">value = [1, 1]</text>\n",
       "</g>\n",
       "<!-- 3&#45;&gt;4 -->\n",
       "<g id=\"edge4\" class=\"edge\"><title>3&#45;&gt;4</title>\n",
       "<path fill=\"none\" stroke=\"black\" d=\"M170.26,-192.884C160.729,-183.798 150.289,-173.845 140.381,-164.4\"/>\n",
       "<polygon fill=\"black\" stroke=\"black\" points=\"142.585,-161.666 132.932,-157.299 137.755,-166.733 142.585,-161.666\"/>\n",
       "</g>\n",
       "<!-- 7 -->\n",
       "<g id=\"node8\" class=\"node\"><title>7</title>\n",
       "<polygon fill=\"none\" stroke=\"black\" points=\"254,-149.5 162,-149.5 162,-96.5 254,-96.5 254,-149.5\"/>\n",
       "<text text-anchor=\"middle\" x=\"208\" y=\"-134.3\" font-family=\"Times,serif\" font-size=\"14.00\">entropy = 0.0</text>\n",
       "<text text-anchor=\"middle\" x=\"208\" y=\"-119.3\" font-family=\"Times,serif\" font-size=\"14.00\">samples = 3</text>\n",
       "<text text-anchor=\"middle\" x=\"208\" y=\"-104.3\" font-family=\"Times,serif\" font-size=\"14.00\">value = [3, 0]</text>\n",
       "</g>\n",
       "<!-- 3&#45;&gt;7 -->\n",
       "<g id=\"edge7\" class=\"edge\"><title>3&#45;&gt;7</title>\n",
       "<path fill=\"none\" stroke=\"black\" d=\"M205.974,-192.884C206.288,-182.216 206.637,-170.352 206.955,-159.519\"/>\n",
       "<polygon fill=\"black\" stroke=\"black\" points=\"210.454,-159.619 207.249,-149.52 203.457,-159.413 210.454,-159.619\"/>\n",
       "</g>\n",
       "<!-- 5 -->\n",
       "<g id=\"node6\" class=\"node\"><title>5</title>\n",
       "<polygon fill=\"none\" stroke=\"black\" points=\"92,-53 0,-53 0,-0 92,-0 92,-53\"/>\n",
       "<text text-anchor=\"middle\" x=\"46\" y=\"-37.8\" font-family=\"Times,serif\" font-size=\"14.00\">entropy = 0.0</text>\n",
       "<text text-anchor=\"middle\" x=\"46\" y=\"-22.8\" font-family=\"Times,serif\" font-size=\"14.00\">samples = 1</text>\n",
       "<text text-anchor=\"middle\" x=\"46\" y=\"-7.8\" font-family=\"Times,serif\" font-size=\"14.00\">value = [1, 0]</text>\n",
       "</g>\n",
       "<!-- 4&#45;&gt;5 -->\n",
       "<g id=\"edge5\" class=\"edge\"><title>4&#45;&gt;5</title>\n",
       "<path fill=\"none\" stroke=\"black\" d=\"M79.8129,-88.9485C75.0308,-80.2579 69.8599,-70.8608 65.0346,-62.0917\"/>\n",
       "<polygon fill=\"black\" stroke=\"black\" points=\"68.0494,-60.3105 60.162,-53.2367 61.9166,-63.6853 68.0494,-60.3105\"/>\n",
       "</g>\n",
       "<!-- 6 -->\n",
       "<g id=\"node7\" class=\"node\"><title>6</title>\n",
       "<polygon fill=\"none\" stroke=\"black\" points=\"202,-53 110,-53 110,-0 202,-0 202,-53\"/>\n",
       "<text text-anchor=\"middle\" x=\"156\" y=\"-37.8\" font-family=\"Times,serif\" font-size=\"14.00\">entropy = 0.0</text>\n",
       "<text text-anchor=\"middle\" x=\"156\" y=\"-22.8\" font-family=\"Times,serif\" font-size=\"14.00\">samples = 1</text>\n",
       "<text text-anchor=\"middle\" x=\"156\" y=\"-7.8\" font-family=\"Times,serif\" font-size=\"14.00\">value = [0, 1]</text>\n",
       "</g>\n",
       "<!-- 4&#45;&gt;6 -->\n",
       "<g id=\"edge6\" class=\"edge\"><title>4&#45;&gt;6</title>\n",
       "<path fill=\"none\" stroke=\"black\" d=\"M118.286,-88.9485C123.676,-80.1664 129.508,-70.6629 134.939,-61.815\"/>\n",
       "<polygon fill=\"black\" stroke=\"black\" points=\"137.956,-63.5903 140.204,-53.2367 131.99,-59.9287 137.956,-63.5903\"/>\n",
       "</g>\n",
       "<!-- 9 -->\n",
       "<g id=\"node10\" class=\"node\"><title>9</title>\n",
       "<polygon fill=\"none\" stroke=\"black\" points=\"370,-157 278,-157 278,-89 370,-89 370,-157\"/>\n",
       "<text text-anchor=\"middle\" x=\"324\" y=\"-141.8\" font-family=\"Times,serif\" font-size=\"14.00\">X[0] &lt;= 1.5</text>\n",
       "<text text-anchor=\"middle\" x=\"324\" y=\"-126.8\" font-family=\"Times,serif\" font-size=\"14.00\">entropy = 1.0</text>\n",
       "<text text-anchor=\"middle\" x=\"324\" y=\"-111.8\" font-family=\"Times,serif\" font-size=\"14.00\">samples = 2</text>\n",
       "<text text-anchor=\"middle\" x=\"324\" y=\"-96.8\" font-family=\"Times,serif\" font-size=\"14.00\">value = [1, 1]</text>\n",
       "</g>\n",
       "<!-- 8&#45;&gt;9 -->\n",
       "<g id=\"edge9\" class=\"edge\"><title>8&#45;&gt;9</title>\n",
       "<path fill=\"none\" stroke=\"black\" d=\"M326.026,-192.884C325.788,-184.778 325.529,-175.982 325.279,-167.472\"/>\n",
       "<polygon fill=\"black\" stroke=\"black\" points=\"328.772,-167.192 324.979,-157.299 321.775,-167.398 328.772,-167.192\"/>\n",
       "</g>\n",
       "<!-- 12 -->\n",
       "<g id=\"node13\" class=\"node\"><title>12</title>\n",
       "<polygon fill=\"none\" stroke=\"black\" points=\"480,-149.5 388,-149.5 388,-96.5 480,-96.5 480,-149.5\"/>\n",
       "<text text-anchor=\"middle\" x=\"434\" y=\"-134.3\" font-family=\"Times,serif\" font-size=\"14.00\">entropy = 0.0</text>\n",
       "<text text-anchor=\"middle\" x=\"434\" y=\"-119.3\" font-family=\"Times,serif\" font-size=\"14.00\">samples = 3</text>\n",
       "<text text-anchor=\"middle\" x=\"434\" y=\"-104.3\" font-family=\"Times,serif\" font-size=\"14.00\">value = [0, 3]</text>\n",
       "</g>\n",
       "<!-- 8&#45;&gt;12 -->\n",
       "<g id=\"edge12\" class=\"edge\"><title>8&#45;&gt;12</title>\n",
       "<path fill=\"none\" stroke=\"black\" d=\"M361.74,-192.884C373.969,-181.226 387.696,-168.141 399.874,-156.532\"/>\n",
       "<polygon fill=\"black\" stroke=\"black\" points=\"402.406,-158.953 407.229,-149.52 397.576,-153.887 402.406,-158.953\"/>\n",
       "</g>\n",
       "<!-- 10 -->\n",
       "<g id=\"node11\" class=\"node\"><title>10</title>\n",
       "<polygon fill=\"none\" stroke=\"black\" points=\"341,-53 249,-53 249,-0 341,-0 341,-53\"/>\n",
       "<text text-anchor=\"middle\" x=\"295\" y=\"-37.8\" font-family=\"Times,serif\" font-size=\"14.00\">entropy = 0.0</text>\n",
       "<text text-anchor=\"middle\" x=\"295\" y=\"-22.8\" font-family=\"Times,serif\" font-size=\"14.00\">samples = 1</text>\n",
       "<text text-anchor=\"middle\" x=\"295\" y=\"-7.8\" font-family=\"Times,serif\" font-size=\"14.00\">value = [1, 0]</text>\n",
       "</g>\n",
       "<!-- 9&#45;&gt;10 -->\n",
       "<g id=\"edge10\" class=\"edge\"><title>9&#45;&gt;10</title>\n",
       "<path fill=\"none\" stroke=\"black\" d=\"M313.857,-88.9485C311.274,-80.5323 308.488,-71.4536 305.871,-62.9243\"/>\n",
       "<polygon fill=\"black\" stroke=\"black\" points=\"309.178,-61.7698 302.898,-53.2367 302.486,-63.8235 309.178,-61.7698\"/>\n",
       "</g>\n",
       "<!-- 11 -->\n",
       "<g id=\"node12\" class=\"node\"><title>11</title>\n",
       "<polygon fill=\"none\" stroke=\"black\" points=\"451,-53 359,-53 359,-0 451,-0 451,-53\"/>\n",
       "<text text-anchor=\"middle\" x=\"405\" y=\"-37.8\" font-family=\"Times,serif\" font-size=\"14.00\">entropy = 0.0</text>\n",
       "<text text-anchor=\"middle\" x=\"405\" y=\"-22.8\" font-family=\"Times,serif\" font-size=\"14.00\">samples = 1</text>\n",
       "<text text-anchor=\"middle\" x=\"405\" y=\"-7.8\" font-family=\"Times,serif\" font-size=\"14.00\">value = [0, 1]</text>\n",
       "</g>\n",
       "<!-- 9&#45;&gt;11 -->\n",
       "<g id=\"edge11\" class=\"edge\"><title>9&#45;&gt;11</title>\n",
       "<path fill=\"none\" stroke=\"black\" d=\"M352.33,-88.9485C360.093,-79.892 368.513,-70.0682 376.296,-60.9875\"/>\n",
       "<polygon fill=\"black\" stroke=\"black\" points=\"379.089,-63.1071 382.94,-53.2367 373.775,-58.5515 379.089,-63.1071\"/>\n",
       "</g>\n",
       "</g>\n",
       "</svg>\n"
      ],
      "text/plain": [
       "<graphviz.files.Source at 0x7f5f4369e550>"
      ]
     },
     "execution_count": 20,
     "metadata": {},
     "output_type": "execute_result"
    }
   ],
   "source": [
    "from sklearn.tree import export_graphviz\n",
    "from graphviz import Source\n",
    "\n",
    "export_graphviz(clf) \n",
    "# Source(export_graphviz(clf, out_file=None, feature_names=digits.feature_names))\n",
    "Source(export_graphviz(clf, out_file=None))"
   ]
  },
  {
   "cell_type": "code",
   "execution_count": 28,
   "metadata": {},
   "outputs": [
    {
     "name": "stdout",
     "output_type": "stream",
     "text": [
      "[0 2 1 2]\n"
     ]
    }
   ],
   "source": [
    "from sklearn.preprocessing import LabelEncoder\n",
    "\n",
    "le = LabelEncoder()\n",
    "t = le.fit_transform(['london', 'paris', 'moscow', 'paris'])\n",
    "print(t)"
   ]
  },
  {
   "cell_type": "code",
   "execution_count": null,
   "metadata": {
    "collapsed": true
   },
   "outputs": [],
   "source": []
  }
 ],
 "metadata": {
  "kernelspec": {
   "display_name": "Python 3",
   "language": "python",
   "name": "python3"
  },
  "language_info": {
   "codemirror_mode": {
    "name": "ipython",
    "version": 3
   },
   "file_extension": ".py",
   "mimetype": "text/x-python",
   "name": "python",
   "nbconvert_exporter": "python",
   "pygments_lexer": "ipython3",
   "version": "3.6.10"
  }
 },
 "nbformat": 4,
 "nbformat_minor": 2
}
