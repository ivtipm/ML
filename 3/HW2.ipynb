{
 "cells": [
  {
   "cell_type": "markdown",
   "metadata": {},
   "source": [
    "# Задания по теме \"Обучение без учителя\""
   ]
  },
  {
   "cell_type": "markdown",
   "metadata": {},
   "source": [
    "Слайды лекции https://yadi.sk/i/TSnd_oPY3QGBoH\n",
    "\n",
    "Присылайте вопросы на <b>I-have-a-question@yandex.ru</b>"
   ]
  },
  {
   "cell_type": "markdown",
   "metadata": {},
   "source": [
    "# Задание 1"
   ]
  },
  {
   "cell_type": "markdown",
   "metadata": {},
   "source": [
    "X = [[4.7,3.2], [4.9, 3.1], [5.9, 3.2], [6, 3]]\n",
    "\n",
    "centroids = [[5.5, 3.2], [6.5, 3]]\n",
    "\n",
    "Вычислите кластеры точек X с помощью алгоритма K-means, где евклидово расстояние - метрика дистанции, и centroids изначальное положение центроидов.\n",
    "\n",
    "Вычисления могут быть произведены любым удобным для Вас способом кроме использования sklearn.cluster.KMeans\n",
    "\n",
    "Ответом на задание является соответствие точка-кластер и финальное положение центроидов.\n",
    "\n",
    "Вам могут помочь:\n",
    "\n",
    "https://docs.scipy.org/doc/numpy-1.13.0/reference/generated/numpy.average.html\n",
    "\n",
    "https://docs.scipy.org/doc/scipy-0.14.0/reference/generated/scipy.spatial.distance.euclidean.html"
   ]
  },
  {
   "cell_type": "markdown",
   "metadata": {},
   "source": [
    "# Задание 2"
   ]
  },
  {
   "cell_type": "markdown",
   "metadata": {},
   "source": [
    "Известно, что алгоритм K-means решает следующую задачу оптимизации:\n",
    "\n",
    "$$min \\sum_{i=1}^{K} \\sum_{x \\in S_i}^{ } \\left \\| x - \\mu_i \\right \\|^2 $$\n",
    "\n",
    "где \n",
    "\n",
    "$K$ - количество кластеров\n",
    "\n",
    "$\\mu_i$ - центроид кластера $i$\n",
    "\n",
    "$S_i$ - кластер $i$\n",
    "\n",
    "Скачайте файл точек https://yadi.sk/i/dhbPvKcg3QGBhn \n",
    "\n",
    "Найдите в лекции каким образом найти оптимальное значение кластеров с помощью функции оптимизации, далее найдите в справке http://scikit-learn.org/stable/modules/generated/sklearn.cluster.k_means.html значение функции оптимизации для параметра n_clusters. Выведите оптимальное n_clusters для точек файла."
   ]
  },
  {
   "cell_type": "code",
   "execution_count": null,
   "metadata": {
    "collapsed": false
   },
   "outputs": [],
   "source": [
    "import numpy as np\n",
    "from sklearn.cluster import *\n",
    "X = np.loadtxt('points.txt', delimiter='\\t')\n",
    "kmeans = KMeans(n_clusters=3, random_state=100, verbose=False)\n",
    "labels = kmeans.fit_predict(X)"
   ]
  },
  {
   "cell_type": "markdown",
   "metadata": {},
   "source": [
    "# Задание 3"
   ]
  },
  {
   "cell_type": "markdown",
   "metadata": {},
   "source": [
    "Изученный нами алгоритм DBSCAN не требует \"количество кластеров\" в качестве параметра. Кластеризуйте точки файла points.txt с помощью DBSCAN и выведите получившееся количество кластеров.\n",
    "\n",
    "Сравните с результатом в задании 2."
   ]
  }
 ],
 "metadata": {
  "kernelspec": {
   "display_name": "Python 3",
   "language": "python",
   "name": "python3"
  },
  "language_info": {
   "codemirror_mode": {
    "name": "ipython",
    "version": 3
   },
   "file_extension": ".py",
   "mimetype": "text/x-python",
   "name": "python",
   "nbconvert_exporter": "python",
   "pygments_lexer": "ipython3",
   "version": "3.6.3"
  }
 },
 "nbformat": 4,
 "nbformat_minor": 2
}
