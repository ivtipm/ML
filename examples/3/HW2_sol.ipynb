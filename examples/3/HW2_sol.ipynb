{
 "cells": [
  {
   "cell_type": "markdown",
   "metadata": {},
   "source": [
    "# Задания по теме \"Обучение без учителя\""
   ]
  },
  {
   "cell_type": "markdown",
   "metadata": {},
   "source": [
    "Слайды лекции https://yadi.sk/i/TSnd_oPY3QGBoH\n",
    "\n",
    "Присылайте вопросы на <b>I-have-a-question@yandex.ru</b>"
   ]
  },
  {
   "cell_type": "markdown",
   "metadata": {},
   "source": [
    "# Задание 1"
   ]
  },
  {
   "cell_type": "markdown",
   "metadata": {},
   "source": [
    "X = [[4.7,3.2], [4.9, 3.1], [5.9, 3.2], [6, 3]]\n",
    "\n",
    "centroids = [[5.5, 3.2], [6.5, 3]]\n",
    "\n",
    "Вычислите кластеры точек X с помощью алгоритма K-means, где евклидово расстояние - метрика дистанции, и centroids изначальное положение центроидов.\n",
    "\n",
    "Вычисления могут быть произведены любым удобным для Вас способом кроме использования sklearn.cluster.KMeans\n",
    "\n",
    "Ответом на задание является соответствие точка-кластер и финальное положение центроидов.\n",
    "\n",
    "Вам могут помочь:\n",
    "\n",
    "https://docs.scipy.org/doc/numpy-1.13.0/reference/generated/numpy.average.html\n",
    "\n",
    "https://docs.scipy.org/doc/scipy-0.14.0/reference/generated/scipy.spatial.distance.euclidean.html"
   ]
  },
  {
   "cell_type": "code",
   "execution_count": 9,
   "metadata": {
    "collapsed": false
   },
   "outputs": [
    {
     "name": "stdout",
     "output_type": "stream",
     "text": [
      "centr: [4.8, 3.15] distance: 0.11180339887498929\n",
      "centr: [5.95, 3.1] distance: 1.2539936203984452\n",
      "centr: [4.8, 3.15] distance: 0.11180339887498988\n",
      "centr: [5.95, 3.1] distance: 1.0499999999999998\n",
      "centr: [4.8, 3.15] distance: 1.1011357772772625\n",
      "centr: [5.95, 3.1] distance: 0.11180339887498948\n",
      "centr: [4.8, 3.15] distance: 1.2093386622447826\n",
      "centr: [5.95, 3.1] distance: 0.11180339887498948\n",
      "[0, 0, 1, 1]\n"
     ]
    }
   ],
   "source": [
    "from scipy.spatial.distance import euclidean\n",
    "from numpy import *\n",
    "import numpy as np\n",
    "# X = [[4.7,3.2], [4.9, 3.1], [5, 3], [5.9, 3.2], [6, 3], [6.2, 2.8]]\n",
    "X = [[4.7,3.2], [4.9, 3.1], [5.9, 3.2], [6, 3]]\n",
    "# centroids = [[5.5, 3.2], [6.5, 3]]\n",
    "# centroids = [[ 5.16666667,  3.16666667], [6, 3]]\n",
    "# centroids = [[ 4.8 ,  3.15], [ 5.95,  3.1 ]]\n",
    "\n",
    "assig = []\n",
    "for x in X:\n",
    "    buf = []\n",
    "    for centr in centroids:\n",
    "        print(\"centr:\", centr, \"distance:\",  euclidean(centr, x))\n",
    "        buf.append(euclidean(centr, x))\n",
    "    assig.append(np.argmin(buf))\n",
    "print(assig)\n",
    "\n",
    "# [0, 0, 0, 1]\n",
    "# cent1 = np.average([[4.7,3.2], [4.9, 3.1], [5.9, 3.2]], axis=0)\n",
    "# cent1 = [ 5.16666667  3.16666667]\n",
    "# cent2 = [6, 3]\n",
    "\n",
    "# [0, 0, 1, 1]\n",
    "# cent1 = np.average([[4.7,3.2], [4.9, 3.1]], axis=0)\n",
    "# cent2 = np.average([[5.9, 3.2], [6, 3]], axis=0)\n",
    "# [ 4.8   3.15]\n",
    "# [ 5.95  3.1 ]"
   ]
  },
  {
   "cell_type": "markdown",
   "metadata": {},
   "source": [
    "# Задание 2"
   ]
  },
  {
   "cell_type": "markdown",
   "metadata": {},
   "source": [
    "Известно, что алгоритм K-means решает следующую задачу оптимизации:\n",
    "\n",
    "$$min \\sum_{i=1}^{K} \\sum_{x \\in S_i}^{ } \\left \\| x - \\mu_i \\right \\|^2 $$\n",
    "\n",
    "где \n",
    "\n",
    "$K$ - количество кластеров\n",
    "\n",
    "$\\mu_i$ - центроид кластера $i$\n",
    "\n",
    "$S_i$ - кластер $i$\n",
    "\n",
    "Скачайте файл точек https://yadi.sk/i/dhbPvKcg3QGBhn \n",
    "\n",
    "Найдите в лекции каким образом найти оптимальное значение кластеров с помощью функции оптимизации, далее найдите в справке http://scikit-learn.org/stable/modules/generated/sklearn.cluster.k_means.html значение функции оптимизации для параметра n_clusters. Выведите оптимальное n_clusters для точек файла."
   ]
  },
  {
   "cell_type": "code",
   "execution_count": 16,
   "metadata": {
    "collapsed": false
   },
   "outputs": [
    {
     "name": "stdout",
     "output_type": "stream",
     "text": [
      "2746641.3759\n"
     ]
    }
   ],
   "source": [
    "import numpy as np\n",
    "from sklearn.cluster import *\n",
    "X = np.loadtxt('points.txt', delimiter='\\t')\n",
    "kmeans = KMeans(n_clusters=3, random_state=100, verbose=False)\n",
    "labels = kmeans.fit_predict(X)"
   ]
  },
  {
   "cell_type": "markdown",
   "metadata": {},
   "source": [
    "# Задание 3"
   ]
  },
  {
   "cell_type": "markdown",
   "metadata": {},
   "source": [
    "Изученный нами алгоритм DBSCAN не требует \"количество кластеров\" в качестве параметра. Кластеризуйте точки файла points.txt с помощью DBSCAN и выведите получившееся количество кластеров.\n",
    "\n",
    "Сравните с результатом в задании 2.\n"
   ]
  },
  {
   "cell_type": "code",
   "execution_count": 23,
   "metadata": {
    "collapsed": false
   },
   "outputs": [
    {
     "name": "stdout",
     "output_type": "stream",
     "text": [
      "[ 0  1  2  2  3  4  5  6  2  7  6  8  1  9 10  0  8  7 11 12  5  5  8  1  9\n",
      "  4 12 13 11 13 10  0 11  9 14  9  7 10 14 13  3  6  5 15 10  9 10 16  3  5\n",
      " 12  4  9  4 13 10 15 16  4  1 16 11  1  8  2  4  5  7  8  3  8 10 11 16  3\n",
      "  9 11 14  5  9 16  0  9  1  6  1 13 13  5  7  1  9 16  4  9  7 14  5 12  4\n",
      " 15  4  1  0 16  3 15 13  0 13 11  4  3 13 10 16 15  1  9 11 13 14  2  5  3\n",
      " 10 15  7  6 10  5  8  9  6  9  1  0  2  4  0 12 16  5  9  4  4  8  6 10 12\n",
      "  3 13  7 14 15  8  8 10 15 16 14 15 14  6  3 11 16 13  3  9 10  2  8 13  6\n",
      "  1  0 12  0  0 14  9 13  1  4  0  2 11 11  5  6  1  6 14  4  8  6  0  1 15\n",
      "  5  1  9  4  3  9  3 14 16 12 11  4  9  6  2 11  8  1  4  7  4  4 14  4 12\n",
      "  6  2 12 15 12  0  0  7  3  2  1 13  8 15  8 14 13  8  6  0 16  9 14 16 15\n",
      "  2  3  6 10  2 13  6  1  4 16  5  1  8 13 16  7  2 13 14 14 16  8 13  6  9\n",
      "  8 14  7 14 15  0  5 14  0  3  3  0  1 14  6 13 10 15  5  4  3  4 13 11  2\n",
      " 13  5  3  1 10 13 16  9 12  8 13  6  7  0  5 11 14  8  3 12 14 10  1 13 15\n",
      " 14  7  5  7  1  1 13  6 12  5 15  6 13  3  7  5  4  3  0  2  5 16 15 10 11\n",
      " 15  9  5  9  1  6 14 12 15 12  3 11  2  8  7 16  1 11 13  3  2  1  7 12 15\n",
      "  2  8  4 10  2  7  0 11  6 16 11 10 16  2  0 12 15 10  2  1 10  3  7 13  7\n",
      "  0  8  3  4  3  8  3  1  1 10 15  8  1  0 15 10 12  4  1 16  7 15  2  9 16\n",
      " 12  3 16  7  1  3  3  3 13  1  7 14  8 10 16  0  5 11  1 16  5 12 15  0  6\n",
      "  1  2  7  7  1 11 12 14 14 11  6  5  4 10  8 10  5  2  6 15  3 15  6  4  3\n",
      "  6 15  4  4  2  3 14 11  7  7 15  7  9  5  8 10 16  4  3  5  6 12 15 15  9\n",
      "  8 15  3  5 12  5 13  6  7 15  9  3 12  4  2  0  0  3 13  7 10  7  7  3 13\n",
      "  3 11  2 14 11  7  6  0  9  0  1  3 11  5  4 16 11 11  2  8  9  8  1  4  1\n",
      " 13  3 15  3  5  3  8 15 14  5  2  0  3  8 12  0  0 16  7 10  2  8 10  5  9\n",
      "  3  6  7  6  0 15  8  4 12 14 14  6  0  2 13 14 10  7 10  4 16 12  9  6  4\n",
      "  8  1 12  7 13  5  6  5  2 10 13 16  5  7  4 16  2  7  3  0 12  9  6  8 10\n",
      " 10  0  4  5 10  2  0 15  8 10  2  8 10 12  0 14  9 16 10  6 15  9  9 16  3\n",
      "  7  3 16  9 15  9  9 13 16 13 10  2 14 10  8 12  5  6 11 14 11  5  6  8 10\n",
      " 15 12 13  7 15 15  0  8 14 14  1 15  8  8 14 16  6 14 10  6  5  0 10  7  1\n",
      "  6  0  5 12 12  1  6  7 11 13 11  4 16  9  9  4  5  8  9  9 16  3  1 13 14\n",
      "  9 10 13 15  9  9 11  2 11  1 14  4 12 14  2  8 11  1  5 11 14 14 10 16 12\n",
      " 16  1 11 14 16 12 11  4 11 15 10 12  2 13  7 11  1  2 12  9  1 16 12  0  2\n",
      " 12  0  8 14 14  8 12  4 10  0  0  8  4  6  8 11  4 11  4  9  9  2 16 13  8\n",
      "  3  2 12  3 16  7 11 15 15  4 11  5  7 14 10 15  7 11  2 16  2  0 13  5  7\n",
      "  7 14  1 14 15  9  0 11  6  2 15 12  4 13  8  3 11  3  9  2  2 12 12 13 11\n",
      " 10 12  7 13  0  7  9 12 12  5 15  8  2  1  0  5  1 16 14  2 11  6  6 15  9\n",
      "  0  5 11 13  5  6 11  2 13 10  5 16 14  2  7  7  5  0  4  1  6 10  9 13 10\n",
      "  2  6  5  9 15 12  3 16 16  2 16  7 12  3 11 14  0 14  6 14 16 12  3  8 15\n",
      "  8 13 10 16 10  4 16  5  6 13  9 11 14 11 10  5  0 13 15 16  5 11 12  7  5\n",
      " 10  0 11  2 12 14 12 16 12 11  2  8  1  4  1 10  4  6  6  1  7  8  9  4 14\n",
      " 16 13 13  0 15  4 13  6 11 12  4 12 15  4  1  0  0  2  2 16  7  9  6 15  8]\n",
      "16\n"
     ]
    }
   ],
   "source": [
    "dbs = DBSCAN(eps=25.5)\n",
    "labels = dbs.fit_predict(X)\n",
    "print(labels)\n",
    "print(max(labels))"
   ]
  },
  {
   "cell_type": "code",
   "execution_count": 8,
   "metadata": {
    "collapsed": false
   },
   "outputs": [
    {
     "name": "stdout",
     "output_type": "stream",
     "text": [
      "1000\n"
     ]
    }
   ],
   "source": [
    "# 1000 x 100\n",
    "import numpy as np\n",
    "from sklearn.cluster import *\n",
    "X = np.loadtxt('points.txt', delimiter='\\t')"
   ]
  },
  {
   "cell_type": "code",
   "execution_count": 6,
   "metadata": {
    "collapsed": false
   },
   "outputs": [
    {
     "data": {
      "image/png": "[encoded data removed]",
      "text/plain": [
       "<matplotlib.figure.Figure at 0x7fb6c21040f0>"
      ]
     },
     "metadata": {},
     "output_type": "display_data"
    }
   ],
   "source": [
    "from sklearn.manifold import TSNE\n",
    "import matplotlib.pyplot as plt\n",
    "\n",
    "tsne = TSNE(random_state=25)\n",
    "\n",
    "X_tsne = tsne.fit_transform(X)\n",
    "\n",
    "plt.figure(figsize=(12,10))\n",
    "plt.scatter(X_tsne[:, 0], X_tsne[:, 1], \n",
    "            edgecolor='none', alpha=0.7, s=40,\n",
    "            cmap=plt.cm.get_cmap('nipy_spectral', 10))\n",
    "# plt.colorbar()\n",
    "plt.title('t-SNE projection')\n",
    "plt.show()"
   ]
  },
  {
   "cell_type": "code",
   "execution_count": null,
   "metadata": {
    "collapsed": true
   },
   "outputs": [],
   "source": []
  }
 ],
 "metadata": {
  "kernelspec": {
   "display_name": "Python 3",
   "language": "python",
   "name": "python3"
  },
  "language_info": {
   "codemirror_mode": {
    "name": "ipython",
    "version": 3
   },
   "file_extension": ".py",
   "mimetype": "text/x-python",
   "name": "python",
   "nbconvert_exporter": "python",
   "pygments_lexer": "ipython3",
   "version": "3.6.3"
  }
 },
 "nbformat": 4,
 "nbformat_minor": 2
}
