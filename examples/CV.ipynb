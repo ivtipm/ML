{
 "cells": [
  {
   "cell_type": "markdown",
   "metadata": {},
   "source": [
    "#   Cross validation - перекрёстная проверка"
   ]
  },
  {
   "cell_type": "markdown",
   "metadata": {},
   "source": [
    "Если данных недостаточно, то проверка на тестовой выборке может быть ненадёжной. \n",
    "Например, в тестовой выборке на каждый (или на один из) класс приходится всего несколько объектов.\n",
    "\n",
    "Решение - обучить несколько вариантов модели, выбирая каждый раз в качестве тестовой выборки другую часть исходных данных. Затем усреднить показатели качества по всем вариантам.\n",
    "\n",
    "\n",
    "В примере ниже такая тестовая выборка показаны голубым."
   ]
  },
  {
   "cell_type": "markdown",
   "metadata": {},
   "source": [
    "https://scikit-learn.org/stable/modules/cross_validation.html#cross-validation"
   ]
  },
  {
   "cell_type": "markdown",
   "metadata": {},
   "source": [
    "<img src=\"https://scikit-learn.org/stable/_images/grid_search_cross_validation.png\" width=500>"
   ]
  },
  {
   "cell_type": "markdown",
   "metadata": {},
   "source": [
    "Общий подход\n",
    "\n",
    "<img src=\"https://scikit-learn.org/stable/_images/grid_search_workflow.png\" width=500>"
   ]
  },
  {
   "cell_type": "code",
   "execution_count": null,
   "metadata": {},
   "outputs": [],
   "source": [
    "# todo: пример измерения качества модели\n",
    "# todo: пример задания показателей качества\n",
    "# todo: пример разных вариантов разбиения данных"
   ]
  }
 ],
 "metadata": {
  "language_info": {
   "name": "python"
  }
 },
 "nbformat": 4,
 "nbformat_minor": 2
}
