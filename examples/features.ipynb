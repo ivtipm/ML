{
 "cells": [
  {
   "cell_type": "code",
   "execution_count": 15,
   "metadata": {},
   "outputs": [
    {
     "data": {
      "text/html": [
       "<div>\n",
       "<style scoped>\n",
       "    .dataframe tbody tr th:only-of-type {\n",
       "        vertical-align: middle;\n",
       "    }\n",
       "\n",
       "    .dataframe tbody tr th {\n",
       "        vertical-align: top;\n",
       "    }\n",
       "\n",
       "    .dataframe thead th {\n",
       "        text-align: right;\n",
       "    }\n",
       "</style>\n",
       "<table border=\"1\" class=\"dataframe\">\n",
       "  <thead>\n",
       "    <tr style=\"text-align: right;\">\n",
       "      <th></th>\n",
       "      <th>x0</th>\n",
       "      <th>x1</th>\n",
       "      <th>x2</th>\n",
       "      <th>x3</th>\n",
       "      <th>x4</th>\n",
       "      <th>x5</th>\n",
       "      <th>x6</th>\n",
       "      <th>x7</th>\n",
       "      <th>x8</th>\n",
       "      <th>x9</th>\n",
       "    </tr>\n",
       "  </thead>\n",
       "  <tbody>\n",
       "    <tr>\n",
       "      <th>0</th>\n",
       "      <td>1.462224</td>\n",
       "      <td>-0.353898</td>\n",
       "      <td>0.045090</td>\n",
       "      <td>-0.790188</td>\n",
       "      <td>0.802854</td>\n",
       "      <td>0.450286</td>\n",
       "      <td>0.873850</td>\n",
       "      <td>0.872814</td>\n",
       "      <td>0.723634</td>\n",
       "      <td>0.888334</td>\n",
       "    </tr>\n",
       "    <tr>\n",
       "      <th>1</th>\n",
       "      <td>-0.690806</td>\n",
       "      <td>-0.677625</td>\n",
       "      <td>0.163398</td>\n",
       "      <td>0.249252</td>\n",
       "      <td>0.076161</td>\n",
       "      <td>0.777240</td>\n",
       "      <td>1.055399</td>\n",
       "      <td>0.583178</td>\n",
       "      <td>-0.136880</td>\n",
       "      <td>1.210272</td>\n",
       "    </tr>\n",
       "    <tr>\n",
       "      <th>2</th>\n",
       "      <td>-0.243481</td>\n",
       "      <td>1.995314</td>\n",
       "      <td>-0.749142</td>\n",
       "      <td>-0.459926</td>\n",
       "      <td>-0.472001</td>\n",
       "      <td>-1.993219</td>\n",
       "      <td>-0.959083</td>\n",
       "      <td>2.066811</td>\n",
       "      <td>0.045997</td>\n",
       "      <td>-1.857289</td>\n",
       "    </tr>\n",
       "    <tr>\n",
       "      <th>3</th>\n",
       "      <td>0.183242</td>\n",
       "      <td>-0.686938</td>\n",
       "      <td>0.278538</td>\n",
       "      <td>-0.243262</td>\n",
       "      <td>0.301167</td>\n",
       "      <td>0.663480</td>\n",
       "      <td>0.164824</td>\n",
       "      <td>-1.002783</td>\n",
       "      <td>-1.587861</td>\n",
       "      <td>0.508085</td>\n",
       "    </tr>\n",
       "    <tr>\n",
       "      <th>4</th>\n",
       "      <td>-0.107274</td>\n",
       "      <td>-1.228168</td>\n",
       "      <td>0.391958</td>\n",
       "      <td>0.576177</td>\n",
       "      <td>0.780719</td>\n",
       "      <td>1.303111</td>\n",
       "      <td>1.144787</td>\n",
       "      <td>-0.295717</td>\n",
       "      <td>1.020494</td>\n",
       "      <td>1.583554</td>\n",
       "    </tr>\n",
       "  </tbody>\n",
       "</table>\n",
       "</div>"
      ],
      "text/plain": [
       "         x0        x1        x2        x3        x4        x5        x6  \\\n",
       "0  1.462224 -0.353898  0.045090 -0.790188  0.802854  0.450286  0.873850   \n",
       "1 -0.690806 -0.677625  0.163398  0.249252  0.076161  0.777240  1.055399   \n",
       "2 -0.243481  1.995314 -0.749142 -0.459926 -0.472001 -1.993219 -0.959083   \n",
       "3  0.183242 -0.686938  0.278538 -0.243262  0.301167  0.663480  0.164824   \n",
       "4 -0.107274 -1.228168  0.391958  0.576177  0.780719  1.303111  1.144787   \n",
       "\n",
       "         x7        x8        x9  \n",
       "0  0.872814  0.723634  0.888334  \n",
       "1  0.583178 -0.136880  1.210272  \n",
       "2  2.066811  0.045997 -1.857289  \n",
       "3 -1.002783 -1.587861  0.508085  \n",
       "4 -0.295717  1.020494  1.583554  "
      ]
     },
     "execution_count": 15,
     "metadata": {},
     "output_type": "execute_result"
    }
   ],
   "source": [
    "# Данные для демонстрации примеров отбора признаков\n",
    "import pandas as pd\n",
    "from sklearn.datasets import make_classification\n",
    "X,y = make_classification(n_samples= 10_000, n_features=10, n_redundant=4, random_state=24675)\n",
    "X = pd.DataFrame(columns=[f\"x{i}\" for i in range(X.shape[1])], data=X)\n",
    "\n",
    "X.head()"
   ]
  },
  {
   "cell_type": "markdown",
   "metadata": {},
   "source": [
    "# Отбор признаков (feature selection)"
   ]
  },
  {
   "cell_type": "markdown",
   "metadata": {},
   "source": [
    "**Зачем?**\n",
    "- Убирает проблему мультиколлинаераности (актуальна для некоторых моделей) \n",
    "- Упрощает модель, \n",
    "    - следовательно упрощает задачу обучения модели. Больше шансов построить более точную модель.\n",
    "    - модель можно обучить быстрее\n",
    "    - простые модели менее склонны к переобучению.\n",
    "\n",
    "**проклятье размерности (curse of dimensionality)** - проблемы возникающие при большом количестве признаков:\n",
    "- возможны случайные зависимости между признаками (в том числе между целевым и независимыми)\n",
    "- повышенное потребление памяти \n",
    "\n",
    "**Ссылки**\n",
    "1. https://scikit-learn.org/stable/modules/feature_selection.html\n"
   ]
  },
  {
   "cell_type": "markdown",
   "metadata": {},
   "source": [
    "## Критерии отбора\n",
    "#### 1. На основе изменчивости признаков\n",
    "Удалять все константные признаки или признаки с маленьким стандартным отклонением.\\\n",
    "`from sklearn.feature_selection import VarianceThreshold`"
   ]
  },
  {
   "cell_type": "markdown",
   "metadata": {},
   "source": [
    "#### 2. Фильтрационные методы - отбрасывать признаки по одному, независимо друг от друга\n",
    "- По коэффициенту корреляции Пирсона (линейному к.к.).\n",
    "    - Выбирать признаки, которые имеют сильную корреляцию с целевым признаком. Например $|r| > 0.2$\n",
    "    - Отбросить те признаки, для которых есть парный признак с высокой корреляцией.\\\n",
    "    Это поможет избавиться от почти линейной зависимости между признаками, которая вредит некоторым моделям (линейная и логистическая регрессия).\n",
    "- Другие показатели взаимосвязи признаков (например нелинейные К.К.). См. также пакет `phik`\n",
    "\n"
   ]
  },
  {
   "cell_type": "markdown",
   "metadata": {},
   "source": [
    "#### 3. На основе показателей (или параметров) некоторых моделей (Model-based method)\n",
    "- Коэффициенты перед признаками в линейной или логистической регрессии.\\\n",
    "    Чем больше коэффициент тем более значим признак. *Признаки должны быть приведены к одной и той же шкале*\\\n",
    "- Значимость признаков на основе случайного леса или градиентного бустинга.\n",
    "\n",
    "Во время обучения дерева ([пример](https://colab.research.google.com/drive/1Bin_h7BPSfnxs4Pea7eibceNMkOEcKmg?usp=sharing)) нужно решать два вопроса: какой признак использовать для разделения узла на ветви, какую границу значения признака выбрать. \n",
    "Выбирается тот признак, который даёт больше прироста информации (позволяет создать более эффективное разделение). Для оценки этого показателя используются или коэффициент Джини или показатель информационной энтропии.\n",
    "Чем чаще признак использовался для разделения, тем важнее признак. Обычно это количество делиться на общее количество деревьев (или узлов во всех деревьях)\n",
    "\n",
    "В SKlearn есть специальный класс, который способен автоматически отбирать признаки, вне зависимости от того, какая модель предоставляет показатели важности признаков - `SelectFromModel`.\n",
    "\n",
    "\n",
    "Такое измерение важности признаков, в отличии, например от К.К., позволяет оценить важность отдельного признака, но при этом все признаки учитываются в совокупности."
   ]
  },
  {
   "cell_type": "code",
   "execution_count": 21,
   "metadata": {},
   "outputs": [
    {
     "name": "stdout",
     "output_type": "stream",
     "text": [
      "feature_importances\n",
      "x0     x1     x2     x3     x4     x5     x6     x7     x8     x9   \n",
      "0.017  0.120  0.072  0.018  0.017  0.217  0.156  0.049  0.018  0.316\n",
      "\n",
      "Размерность новых признаков: 5\n"
     ]
    },
    {
     "data": {
      "text/plain": [
       "array(['x1', 'x2', 'x5', 'x6', 'x9'], dtype=object)"
      ]
     },
     "execution_count": 21,
     "metadata": {},
     "output_type": "execute_result"
    }
   ],
   "source": [
    "from sklearn.ensemble import RandomForestClassifier\n",
    "from sklearn.feature_selection import SelectFromModel\n",
    "\n",
    "clf = RandomForestClassifier()\n",
    "clf.fit(X, y)\n",
    "\n",
    "print(\"feature_importances\")\n",
    "print( \"  \".join( [f\"x{i:<4}\" for i in range(len(clf.feature_importances_))]) )\n",
    "print( \"  \".join( [f\"{x:5.3f}\" for x in clf.feature_importances_]) )\n",
    "\n",
    "# отбирает все признаки, у которых вес (weight или показатель важности), полученный из модели МО, превышает установленное пороговое значение\n",
    "feature_selector = SelectFromModel( clf, threshold=\"median\", prefit=True)\n",
    "# threshold = {median, mean, number} - порог отбора признаков\n",
    "# max_features (default = None) - задаёт максимальное количество признаков, нужно задать threshold=-np.inf если использовать этот параметр\n",
    "# prefit - используется уже обученная модель?\n",
    "# https://scikit-learn.org/stable/modules/generated/sklearn.feature_selection.SelectFromModel.html\n",
    "\n",
    "# преобразуем данные\n",
    "X_filtred = feature_selector.fit_transform(X, feature_names = X.columns)\n",
    "\n",
    "print(f\"\\nРазмерность новых признаков: {X_filtred.shape[1]}\")\n",
    "feature_selector.get_feature_names_out()"
   ]
  },
  {
   "cell_type": "markdown",
   "metadata": {},
   "source": [
    "\n",
    "\n",
    "\n",
    "#### 4. Встроенные методы (Embedded methods) - отбор признаков - часть процесса обучения модели\n",
    "См. регуляризации (L1 или L2) в линейных моделях.\n",
    "\n",
    "#### 5. (Wrapper methods - ручной или автоматизированный отбор признаков на основе оценки модели на тестовой выборке.\n",
    "\n",
    "1. Обучить модель. Оценить на тестовой выборке. Удалить признак. Повторить обучение и оценку. Удалить признак окончательно если качество выросло. Повторить для всех признаков или комбинаций признаков.\n",
    "2. Аналогичный алгоритм, но начинать с одного признака и добавлять признаки.\\\n",
    "\n",
    "```python\n",
    "from sklearn.feature_selection import SequentialFeatureSelector\n",
    "bfs = SequentialFeatureSelector(lr, k_features='best', forward = False, n_jobs=-1)\n",
    "```\n",
    "3. Исчерпывающий выбор признаков - полный перебор всех комбинаций признаков.\n",
    "```python\n",
    "from mlxtend.feature_selection import ExhaustiveFeatureSelector\n",
    "```\n",
    "- см. Recursive feature elimination\n",
    "\n",
    "\n",
    "#### 5. Уменьшение размерности\n",
    "PCA, UMAP и др. методы"
   ]
  },
  {
   "cell_type": "code",
   "execution_count": 1,
   "metadata": {},
   "outputs": [
    {
     "ename": "ModuleNotFoundError",
     "evalue": "No module named 'sklearn'",
     "output_type": "error",
     "traceback": [
      "\u001b[0;31m---------------------------------------------------------------------------\u001b[0m",
      "\u001b[0;31mModuleNotFoundError\u001b[0m                       Traceback (most recent call last)",
      "Cell \u001b[0;32mIn[1], line 1\u001b[0m\n\u001b[0;32m----> 1\u001b[0m \u001b[38;5;28;01mfrom\u001b[39;00m \u001b[38;5;21;01msklearn\u001b[39;00m\u001b[38;5;21;01m.\u001b[39;00m\u001b[38;5;21;01mdecomposition\u001b[39;00m \u001b[38;5;28;01mimport\u001b[39;00m PCA\n\u001b[1;32m      2\u001b[0m \u001b[38;5;66;03m# создаем объект PCA\u001b[39;00m\n\u001b[1;32m      3\u001b[0m pca \u001b[38;5;241m=\u001b[39m PCA(n_components\u001b[38;5;241m=\u001b[39m\u001b[38;5;241m2\u001b[39m)\n",
      "\u001b[0;31mModuleNotFoundError\u001b[0m: No module named 'sklearn'"
     ]
    }
   ],
   "source": [
    "from sklearn.decomposition import PCA\n",
    "# создаем объект PCA\n",
    "pca = PCA(n_components=2)\n",
    "# обучаем модель и преобразуем данные\n",
    "X_transformed = pca.fit_transform(X)\n"
   ]
  },
  {
   "cell_type": "markdown",
   "metadata": {},
   "source": [
    "# Извлечение признаков (feature extraction)"
   ]
  },
  {
   "cell_type": "markdown",
   "metadata": {},
   "source": []
  }
 ],
 "metadata": {
  "kernelspec": {
   "display_name": ".venv",
   "language": "python",
   "name": "python3"
  },
  "language_info": {
   "codemirror_mode": {
    "name": "ipython",
    "version": 3
   },
   "file_extension": ".py",
   "mimetype": "text/x-python",
   "name": "python",
   "nbconvert_exporter": "python",
   "pygments_lexer": "ipython3",
   "version": "3.11.6"
  }
 },
 "nbformat": 4,
 "nbformat_minor": 2
}
