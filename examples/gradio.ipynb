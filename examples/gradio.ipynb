{
 "cells": [
  {
   "cell_type": "markdown",
   "metadata": {},
   "source": [
    "# Gradio"
   ]
  },
  {
   "cell_type": "markdown",
   "metadata": {},
   "source": [
    "https://www.gradio.app/guides/quickstart - быстрый старт\n",
    "\n",
    "https://www.gradio.app/playground - набор интерактивный примеров \n",
    "\n",
    "В 2023 году API пакета изменился, поэтому многие старые примеры не работают. Рекомендуется обращаться к документации или к новым статьям.\n"
   ]
  },
  {
   "cell_type": "markdown",
   "metadata": {},
   "source": [
    "####  Hello, World!"
   ]
  },
  {
   "cell_type": "markdown",
   "metadata": {},
   "source": [
    "Принцип построения программы\n",
    "\n",
    "<img src=\"https://github.com/gradio-app/gradio/blob/main/guides/assets/dataflow.svg?raw=true\" width=1150>"
   ]
  },
  {
   "cell_type": "code",
   "execution_count": null,
   "metadata": {},
   "outputs": [],
   "source": [
    "import gradio\n",
    "\n",
    "# обработчик формы\n",
    "# параметры - это данные полей (или др. элементы ввода) на форме\n",
    "def greet(name, intensity):\n",
    "    return \"Hello, \" + name + \"!\" * int(intensity)\n",
    "\n",
    "# объект demo - форма\n",
    "demo = gradio.Interface(\n",
    "    fn=greet,                       # обработчик\n",
    "    inputs=[\"text\", \"slider\"],      # элементы ввода (поле ввода и слайдер)\n",
    "    outputs=[\"text\"],               # элементы вывода\n",
    "    theme=gradio.themes.Base()\n",
    ")\n",
    "# https://www.gradio.app/guides/theming-guide   - настройка темы\n",
    "    # gr.themes.Base()\n",
    "    # gr.themes.Default()\n",
    "    # gr.themes.Glass()\n",
    "    # gr.themes.Monochrome()\n",
    "    # gr.themes.Soft()\n",
    "\n",
    "\n",
    "demo.launch()"
   ]
  },
  {
   "cell_type": "markdown",
   "metadata": {},
   "source": [
    "### Некоторые элементы интерфейса\n",
    "\n",
    "- `\"text\"`, `gradio.Textbox(···)`\n",
    "- `\"number\"`, `gradio.Number(···)`\n",
    "- `gradio.Label(···)`\n",
    "- `gradio.Checkbox(···)`\n",
    "- `gradio.Dropdown(···)`\n",
    "- `gradio.Image(···)`\n",
    "- `gradio.ImageEditor(···)` - примитивный редактор изображений, на котором можно (в том числе) рисовать\n",
    "- `gradio.Sketchpad()` - панель (холст) для рисования\n",
    "- `gradio.Dataframe(···)` - показывает датафрейм, может принимать данные для загрузки\n",
    "- ``\n",
    "- ``"
   ]
  },
  {
   "cell_type": "markdown",
   "metadata": {},
   "source": [
    "### Пример - вывод изображения"
   ]
  },
  {
   "cell_type": "markdown",
   "metadata": {},
   "source": [
    "#### Подготовка данных и модели"
   ]
  },
  {
   "cell_type": "code",
   "execution_count": null,
   "metadata": {},
   "outputs": [],
   "source": [
    "# подготовка данных для примеры\n",
    "from sklearn.datasets import load_iris\n",
    "from sklearn.ensemble import RandomForestClassifier\n",
    "\n",
    "import matplotlib.pyplot as plt\n",
    "import seaborn\n",
    "import pandas as pd\n",
    "\n",
    "import gradio\n",
    "\n",
    "data = load_iris()\n",
    "X, y = data['data'], data['target']\n",
    "TargetNames = data['target_names']\n",
    "\n",
    "Data = pd.DataFrame(X)\n",
    "Data.columns = data.feature_names\n",
    "Data['class'] = y\n",
    "Data['label'] = Data['class'].map({0:'setosa', 1:'versicolor', 2:'virginica'})\n",
    "\n",
    "Forest = RandomForestClassifier().fit(X,y)"
   ]
  },
  {
   "cell_type": "code",
   "execution_count": 3,
   "metadata": {},
   "outputs": [
    {
     "data": {
      "text/html": [
       "<div>\n",
       "<style scoped>\n",
       "    .dataframe tbody tr th:only-of-type {\n",
       "        vertical-align: middle;\n",
       "    }\n",
       "\n",
       "    .dataframe tbody tr th {\n",
       "        vertical-align: top;\n",
       "    }\n",
       "\n",
       "    .dataframe thead th {\n",
       "        text-align: right;\n",
       "    }\n",
       "</style>\n",
       "<table border=\"1\" class=\"dataframe\">\n",
       "  <thead>\n",
       "    <tr style=\"text-align: right;\">\n",
       "      <th></th>\n",
       "      <th>sepal length (cm)</th>\n",
       "      <th>sepal width (cm)</th>\n",
       "      <th>petal length (cm)</th>\n",
       "      <th>petal width (cm)</th>\n",
       "      <th>class</th>\n",
       "      <th>label</th>\n",
       "    </tr>\n",
       "  </thead>\n",
       "  <tbody>\n",
       "    <tr>\n",
       "      <th>0</th>\n",
       "      <td>5.1</td>\n",
       "      <td>3.5</td>\n",
       "      <td>1.4</td>\n",
       "      <td>0.2</td>\n",
       "      <td>0</td>\n",
       "      <td>setosa</td>\n",
       "    </tr>\n",
       "    <tr>\n",
       "      <th>1</th>\n",
       "      <td>4.9</td>\n",
       "      <td>3.0</td>\n",
       "      <td>1.4</td>\n",
       "      <td>0.2</td>\n",
       "      <td>0</td>\n",
       "      <td>setosa</td>\n",
       "    </tr>\n",
       "    <tr>\n",
       "      <th>2</th>\n",
       "      <td>4.7</td>\n",
       "      <td>3.2</td>\n",
       "      <td>1.3</td>\n",
       "      <td>0.2</td>\n",
       "      <td>0</td>\n",
       "      <td>setosa</td>\n",
       "    </tr>\n",
       "    <tr>\n",
       "      <th>3</th>\n",
       "      <td>4.6</td>\n",
       "      <td>3.1</td>\n",
       "      <td>1.5</td>\n",
       "      <td>0.2</td>\n",
       "      <td>0</td>\n",
       "      <td>setosa</td>\n",
       "    </tr>\n",
       "    <tr>\n",
       "      <th>4</th>\n",
       "      <td>5.0</td>\n",
       "      <td>3.6</td>\n",
       "      <td>1.4</td>\n",
       "      <td>0.2</td>\n",
       "      <td>0</td>\n",
       "      <td>setosa</td>\n",
       "    </tr>\n",
       "    <tr>\n",
       "      <th>...</th>\n",
       "      <td>...</td>\n",
       "      <td>...</td>\n",
       "      <td>...</td>\n",
       "      <td>...</td>\n",
       "      <td>...</td>\n",
       "      <td>...</td>\n",
       "    </tr>\n",
       "    <tr>\n",
       "      <th>145</th>\n",
       "      <td>6.7</td>\n",
       "      <td>3.0</td>\n",
       "      <td>5.2</td>\n",
       "      <td>2.3</td>\n",
       "      <td>2</td>\n",
       "      <td>virginica</td>\n",
       "    </tr>\n",
       "    <tr>\n",
       "      <th>146</th>\n",
       "      <td>6.3</td>\n",
       "      <td>2.5</td>\n",
       "      <td>5.0</td>\n",
       "      <td>1.9</td>\n",
       "      <td>2</td>\n",
       "      <td>virginica</td>\n",
       "    </tr>\n",
       "    <tr>\n",
       "      <th>147</th>\n",
       "      <td>6.5</td>\n",
       "      <td>3.0</td>\n",
       "      <td>5.2</td>\n",
       "      <td>2.0</td>\n",
       "      <td>2</td>\n",
       "      <td>virginica</td>\n",
       "    </tr>\n",
       "    <tr>\n",
       "      <th>148</th>\n",
       "      <td>6.2</td>\n",
       "      <td>3.4</td>\n",
       "      <td>5.4</td>\n",
       "      <td>2.3</td>\n",
       "      <td>2</td>\n",
       "      <td>virginica</td>\n",
       "    </tr>\n",
       "    <tr>\n",
       "      <th>149</th>\n",
       "      <td>5.9</td>\n",
       "      <td>3.0</td>\n",
       "      <td>5.1</td>\n",
       "      <td>1.8</td>\n",
       "      <td>2</td>\n",
       "      <td>virginica</td>\n",
       "    </tr>\n",
       "  </tbody>\n",
       "</table>\n",
       "<p>150 rows × 6 columns</p>\n",
       "</div>"
      ],
      "text/plain": [
       "     sepal length (cm)  sepal width (cm)  petal length (cm)  petal width (cm)  \\\n",
       "0                  5.1               3.5                1.4               0.2   \n",
       "1                  4.9               3.0                1.4               0.2   \n",
       "2                  4.7               3.2                1.3               0.2   \n",
       "3                  4.6               3.1                1.5               0.2   \n",
       "4                  5.0               3.6                1.4               0.2   \n",
       "..                 ...               ...                ...               ...   \n",
       "145                6.7               3.0                5.2               2.3   \n",
       "146                6.3               2.5                5.0               1.9   \n",
       "147                6.5               3.0                5.2               2.0   \n",
       "148                6.2               3.4                5.4               2.3   \n",
       "149                5.9               3.0                5.1               1.8   \n",
       "\n",
       "     class      label  \n",
       "0        0     setosa  \n",
       "1        0     setosa  \n",
       "2        0     setosa  \n",
       "3        0     setosa  \n",
       "4        0     setosa  \n",
       "..     ...        ...  \n",
       "145      2  virginica  \n",
       "146      2  virginica  \n",
       "147      2  virginica  \n",
       "148      2  virginica  \n",
       "149      2  virginica  \n",
       "\n",
       "[150 rows x 6 columns]"
      ]
     },
     "execution_count": 3,
     "metadata": {},
     "output_type": "execute_result"
    }
   ],
   "source": [
    "Data"
   ]
  },
  {
   "cell_type": "markdown",
   "metadata": {},
   "source": [
    "#### Интерфейс с выводом изображения"
   ]
  },
  {
   "cell_type": "code",
   "execution_count": 7,
   "metadata": {},
   "outputs": [],
   "source": [
    "def make_scatterplot(Data:pd.DataFrame, new_sw:float, new_pw: float):\n",
    "    \"\"\"Строит диаграмму рассеяния, добавляет новую точку в виде крестика\"\"\"\n",
    "    fig = plt.figure( figsize=(5,5) )\n",
    "    seaborn.scatterplot( data=Data[['sepal width (cm)', 'petal width (cm)', 'label']], x='sepal width (cm)', y='petal width (cm)', hue='label')\n",
    "    # добавить ещё один маркер: размером 50, красного цвета\n",
    "    plt.scatter(x=new_sw, y=new_pw, s=50, marker='x', color='r')\n",
    "    # fig.show()\n",
    "    plt.savefig('plot.png')\n",
    "    return plt.imread('plot.png')"
   ]
  },
  {
   "cell_type": "code",
   "execution_count": 71,
   "metadata": {},
   "outputs": [
    {
     "name": "stdout",
     "output_type": "stream",
     "text": [
      "Running on local URL:  http://127.0.0.1:7881\n",
      "\n",
      "To create a public link, set `share=True` in `launch()`.\n"
     ]
    },
    {
     "data": {
      "text/html": [
       "<div><iframe src=\"http://127.0.0.1:7881/\" width=\"100%\" height=\"500\" allow=\"autoplay; camera; microphone; clipboard-read; clipboard-write;\" frameborder=\"0\" allowfullscreen></iframe></div>"
      ],
      "text/plain": [
       "<IPython.core.display.HTML object>"
      ]
     },
     "metadata": {},
     "output_type": "display_data"
    },
    {
     "data": {
      "text/plain": []
     },
     "execution_count": 71,
     "metadata": {},
     "output_type": "execute_result"
    }
   ],
   "source": [
    "def predict(sl, sw, pl, pw: float):\n",
    "    \"\"\"Обработчик для события отправки данных формы;\n",
    "    параметры - данные формы\"\"\"\n",
    "    global Forest, Data\n",
    "\n",
    "    y_pred = Forest.predict([[sl, sw, pl, pw]])[0]     # модель sklearn принимает список объектов, поэтом тут второй список\n",
    "    return make_scatterplot(Data, sw, pw), TargetNames[y_pred]\n",
    "    # return должен соответствовать выходным элементам (outputs) на форме\n",
    "\n",
    "\n",
    "seaborn.set_style(\"darkgrid\")\n",
    "\n",
    "# создание формы\n",
    "iris_form2 = gradio.Interface(\n",
    "    predict,    # обработчик\n",
    "    # элементы интерфейса для ввода данных    \n",
    "    inputs= [ gradio.Number(label=\"длина чашелистика (sepal length)\"),  gradio.Number(label=\"ширина чашелистика (sepal width)\"), \n",
    "              gradio.Number(label=\"длина лепестка (petal length)\"),     gradio.Number(label=\"ширина лепестка (petal width)\")],\n",
    "    # элементы интерфейса для вывода данных\n",
    "    outputs=[gradio.Image(height=400, width=400), \"text\"]\n",
    ")\n",
    "\n",
    "\n",
    "# запуск сервера\n",
    "iris_form2.launch()"
   ]
  },
  {
   "cell_type": "markdown",
   "metadata": {},
   "source": [
    "#### Интерфейс со столбчатой диаграммой, обратной связью (flag)"
   ]
  },
  {
   "cell_type": "code",
   "execution_count": 12,
   "metadata": {},
   "outputs": [
    {
     "name": "stdout",
     "output_type": "stream",
     "text": [
      "Running on local URL:  http://127.0.0.1:7862\n",
      "\n",
      "To create a public link, set `share=True` in `launch()`.\n"
     ]
    },
    {
     "data": {
      "text/html": [
       "<div><iframe src=\"http://127.0.0.1:7862/\" width=\"100%\" height=\"500\" allow=\"autoplay; camera; microphone; clipboard-read; clipboard-write;\" frameborder=\"0\" allowfullscreen></iframe></div>"
      ],
      "text/plain": [
       "<IPython.core.display.HTML object>"
      ]
     },
     "metadata": {},
     "output_type": "display_data"
    },
    {
     "data": {
      "text/plain": []
     },
     "execution_count": 12,
     "metadata": {},
     "output_type": "execute_result"
    }
   ],
   "source": [
    "def predict2(sl, sw, pl, pw: float):\n",
    "    \"\"\"Обработчик для события отправки данных формы;\n",
    "    параметры - данные формы\"\"\"\n",
    "    global Forest, Data\n",
    "\n",
    "    y_pred = Forest.predict_proba([[sl, sw, pl, pw]])[0]     # модель sklearn принимает список объектов, поэтом тут второй список\n",
    "    result = pd.DataFrame( {'класс': TargetNames, 'вероятность': y_pred} )\n",
    "    print(result)\n",
    "    return make_scatterplot(Data, sw, pw), result\n",
    "    # return должен соответствовать выходным элементам (outputs) на форме\n",
    "\n",
    "seaborn.set_style(\"darkgrid\")\n",
    "\n",
    "# создание формы\n",
    "iris_form2 = gradio.Interface(\n",
    "    predict2,    # обработчик\n",
    "    # элементы интерфейса для ввода данных    \n",
    "    inputs= [ gradio.Number(label=\"длина чашелистика (sepal length)\"),  gradio.Number(label=\"ширина чашелистика (sepal width)\"), \n",
    "              gradio.Number(label=\"длина лепестка (petal length)\"),     gradio.Number(label=\"ширина лепестка (petal width)\")],\n",
    "    # элементы интерфейса для вывода данных\n",
    "    outputs=[gradio.Image(height=400, width=400), \n",
    "             gradio.BarPlot(title = \"Вероятности классов\", x='класс', y='вероятность', vertical=False,  interactive=True, height=100)],\n",
    "    # flagging_callback = специальный объект для логирования, например gradio.flagging.CSVLogger\n",
    ")\n",
    "\n",
    "\n",
    "# запуск сервера\n",
    "iris_form2.launch()"
   ]
  },
  {
   "cell_type": "markdown",
   "metadata": {},
   "source": [
    "## Пример с вводом изображения"
   ]
  },
  {
   "cell_type": "code",
   "execution_count": 1,
   "metadata": {},
   "outputs": [
    {
     "name": "stderr",
     "output_type": "stream",
     "text": [
      "[Parallel(n_jobs=1)]: Done  49 tasks      | elapsed:   19.9s\n"
     ]
    }
   ],
   "source": [
    "import numpy as np\n",
    "\n",
    "from sklearn.datasets import fetch_openml\n",
    "from sklearn.ensemble import RandomForestClassifier\n",
    "\n",
    "# Датасет с рукописнымми цифрами\n",
    "DataDigits = fetch_openml(\"mnist_784\", version=1)\n",
    "X = DataDigits['data'].values      # чб. изображения 28*28, но записанные в одномерный массив\n",
    "y = DataDigits['target']\n",
    "\n",
    "Forest2 = RandomForestClassifier(verbose=1).fit(X,y)\n"
   ]
  },
  {
   "cell_type": "code",
   "execution_count": 3,
   "metadata": {},
   "outputs": [
    {
     "name": "stderr",
     "output_type": "stream",
     "text": [
      "[Parallel(n_jobs=1)]: Done  49 tasks      | elapsed:    0.0s\n"
     ]
    },
    {
     "data": {
      "text/plain": [
       "array(['8'], dtype=object)"
      ]
     },
     "execution_count": 3,
     "metadata": {},
     "output_type": "execute_result"
    }
   ],
   "source": [
    "Forest2.predict( [np.random.randint(0, 255, 784)] )"
   ]
  },
  {
   "cell_type": "code",
   "execution_count": null,
   "metadata": {},
   "outputs": [],
   "source": [
    "import gradio\n",
    "\n",
    "def predict3(img:np.array):\n",
    "    \"\"\"Обработчик для события отправки данных формы;\n",
    "    параметры - данные формы\"\"\"\n",
    "    global Forest2\n",
    "    img = img['layers'][0].resize((28,28))\n",
    "    img = np. array(img)\n",
    "    img = img.reshape(-1)\n",
    "    return Forest2.predict( [img] )[0]\n",
    "\n",
    "\n",
    "# создание формы\n",
    "mnist_form = gradio.Interface(\n",
    "    predict3,    # обработчик\n",
    "    # элементы интерфейса для ввода данных    \n",
    "    inputs= [ gradio.Sketchpad( image_mode=\"L\", type=\"pil\", brush=gradio.Brush(colors=[\"#ffffff\"]), crop_size=(300,300), width=300, height=300, canvas_size=(280,280))],\n",
    "    # элементы интерфейса для вывода данных\n",
    "    outputs=[\"text\"],\n",
    "    # flagging_callback = специальный объект для логирования, например gradio.flagging.CSVLogger\n",
    ")\n",
    "\n",
    "\n",
    "# запуск сервера\n",
    "mnist_form.launch(max_threads=1)"
   ]
  }
 ],
 "metadata": {
  "kernelspec": {
   "display_name": ".venv",
   "language": "python",
   "name": "python3"
  },
  "language_info": {
   "codemirror_mode": {
    "name": "ipython",
    "version": 3
   },
   "file_extension": ".py",
   "mimetype": "text/x-python",
   "name": "python",
   "nbconvert_exporter": "python",
   "pygments_lexer": "ipython3",
   "version": "3.12.7"
  }
 },
 "nbformat": 4,
 "nbformat_minor": 2
}
